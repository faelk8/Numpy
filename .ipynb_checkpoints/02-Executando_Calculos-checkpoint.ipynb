{
 "cells": [
  {
   "cell_type": "code",
   "execution_count": 1,
   "metadata": {},
   "outputs": [],
   "source": [
    "import numpy as np"
   ]
  },
  {
   "cell_type": "code",
   "execution_count": 2,
   "metadata": {},
   "outputs": [
    {
     "name": "stdout",
     "output_type": "stream",
     "text": [
      "[[1 2 3]\n",
      " [4 5 6]\n",
      " [7 8 9]]\n"
     ]
    }
   ],
   "source": [
    "ar_01 = np.array([[1,2,3],[4,5,6],[7,8,9]])\n",
    "print(ar_01)"
   ]
  },
  {
   "cell_type": "markdown",
   "metadata": {},
   "source": [
    "## Multiplicação"
   ]
  },
  {
   "cell_type": "code",
   "execution_count": 3,
   "metadata": {},
   "outputs": [
    {
     "name": "stdout",
     "output_type": "stream",
     "text": [
      "[[ 2  4  6]\n",
      " [ 8 10 12]\n",
      " [14 16 18]]\n"
     ]
    }
   ],
   "source": [
    "print(ar_01 * 2)"
   ]
  },
  {
   "cell_type": "code",
   "execution_count": 4,
   "metadata": {},
   "outputs": [
    {
     "name": "stdout",
     "output_type": "stream",
     "text": [
      "[[100 200 300]\n",
      " [400 500 600]\n",
      " [700 800 900]]\n"
     ]
    }
   ],
   "source": [
    "print(ar_01 * 100)"
   ]
  },
  {
   "cell_type": "markdown",
   "metadata": {},
   "source": [
    "## Divisão"
   ]
  },
  {
   "cell_type": "code",
   "execution_count": 5,
   "metadata": {},
   "outputs": [
    {
     "name": "stdout",
     "output_type": "stream",
     "text": [
      "[[0.5 1.  1.5]\n",
      " [2.  2.5 3. ]\n",
      " [3.5 4.  4.5]]\n"
     ]
    }
   ],
   "source": [
    "# Observer que os valores eram do tipo inteiro e agora é do tipo float\n",
    "print(ar_01 / 2)"
   ]
  },
  {
   "cell_type": "markdown",
   "metadata": {},
   "source": [
    "## Soma"
   ]
  },
  {
   "cell_type": "code",
   "execution_count": 6,
   "metadata": {},
   "outputs": [
    {
     "name": "stdout",
     "output_type": "stream",
     "text": [
      "[[101 102 103]\n",
      " [104 105 106]\n",
      " [107 108 109]]\n"
     ]
    }
   ],
   "source": [
    "print(ar_01 + 100)"
   ]
  },
  {
   "cell_type": "markdown",
   "metadata": {},
   "source": [
    "## Subtração"
   ]
  },
  {
   "cell_type": "code",
   "execution_count": 7,
   "metadata": {},
   "outputs": [
    {
     "name": "stdout",
     "output_type": "stream",
     "text": [
      "[[0 1 2]\n",
      " [3 4 5]\n",
      " [6 7 8]]\n"
     ]
    }
   ],
   "source": [
    "print(ar_01 - 1)"
   ]
  },
  {
   "cell_type": "markdown",
   "metadata": {},
   "source": [
    "## Cálculo entre 2 arrays"
   ]
  },
  {
   "cell_type": "code",
   "execution_count": 8,
   "metadata": {},
   "outputs": [],
   "source": [
    "ar_01 = np.array([[1,2,3],[4,5,6],[7,8,9]])\n",
    "ar_02 = np.array([[7,8,9],[4,5,6],[1,2,3]])"
   ]
  },
  {
   "cell_type": "code",
   "execution_count": 9,
   "metadata": {},
   "outputs": [
    {
     "name": "stdout",
     "output_type": "stream",
     "text": [
      "[[ 6  6  6]\n",
      " [ 0  0  0]\n",
      " [-6 -6 -6]]\n"
     ]
    }
   ],
   "source": [
    "print(ar_02 - ar_01)"
   ]
  },
  {
   "cell_type": "code",
   "execution_count": 10,
   "metadata": {},
   "outputs": [
    {
     "name": "stdout",
     "output_type": "stream",
     "text": [
      "[[ 8 10 12]\n",
      " [ 8 10 12]\n",
      " [ 8 10 12]]\n"
     ]
    }
   ],
   "source": [
    "print(ar_01 + ar_02)"
   ]
  },
  {
   "cell_type": "code",
   "execution_count": 11,
   "metadata": {},
   "outputs": [
    {
     "name": "stdout",
     "output_type": "stream",
     "text": [
      "[[7.         4.         3.        ]\n",
      " [1.         1.         1.        ]\n",
      " [0.14285714 0.25       0.33333333]]\n"
     ]
    }
   ],
   "source": [
    "print(ar_02 / ar_01)"
   ]
  },
  {
   "cell_type": "code",
   "execution_count": 12,
   "metadata": {},
   "outputs": [
    {
     "name": "stdout",
     "output_type": "stream",
     "text": [
      "[[ 7 16 27]\n",
      " [16 25 36]\n",
      " [ 7 16 27]]\n"
     ]
    }
   ],
   "source": [
    "print(ar_01 * ar_02)"
   ]
  },
  {
   "cell_type": "markdown",
   "metadata": {},
   "source": [
    "# Comparando Arrays"
   ]
  },
  {
   "cell_type": "code",
   "execution_count": 13,
   "metadata": {},
   "outputs": [],
   "source": [
    "ar_01 = np.array([[1,2,3],[4,5,6],[7,8,9]])\n",
    "ar_02 = np.array([[7,8,9],[4,5,6],[1,2,3]])"
   ]
  },
  {
   "cell_type": "code",
   "execution_count": 14,
   "metadata": {},
   "outputs": [
    {
     "name": "stdout",
     "output_type": "stream",
     "text": [
      "[[False False False]\n",
      " [False False False]\n",
      " [ True  True  True]]\n"
     ]
    }
   ],
   "source": [
    "# Maior\n",
    "print(ar_01 > ar_02)"
   ]
  },
  {
   "cell_type": "code",
   "execution_count": 15,
   "metadata": {},
   "outputs": [
    {
     "name": "stdout",
     "output_type": "stream",
     "text": [
      "[[ True  True  True]\n",
      " [False False False]\n",
      " [False False False]]\n"
     ]
    }
   ],
   "source": [
    "# Menor\n",
    "print(ar_01 < ar_02)"
   ]
  },
  {
   "cell_type": "code",
   "execution_count": 16,
   "metadata": {},
   "outputs": [
    {
     "name": "stdout",
     "output_type": "stream",
     "text": [
      "[[False False False]\n",
      " [ True  True  True]\n",
      " [False False False]]\n"
     ]
    }
   ],
   "source": [
    "# Igual\n",
    "print(ar_01 == ar_02)"
   ]
  },
  {
   "cell_type": "code",
   "execution_count": 17,
   "metadata": {},
   "outputs": [
    {
     "name": "stdout",
     "output_type": "stream",
     "text": [
      "[[ True  True  True]\n",
      " [False False False]\n",
      " [ True  True  True]]\n"
     ]
    }
   ],
   "source": [
    "# Diferente \n",
    "print(ar_01 != ar_02)"
   ]
  },
  {
   "cell_type": "markdown",
   "metadata": {},
   "source": [
    "## Transposta da matriz"
   ]
  },
  {
   "cell_type": "code",
   "execution_count": 35,
   "metadata": {},
   "outputs": [
    {
     "name": "stdout",
     "output_type": "stream",
     "text": [
      "[[ 0.48913704 -1.22242351 -0.30499533]\n",
      " [ 0.15968486 -0.53102135 -2.0729696 ]\n",
      " [ 0.43071185  0.10474262 -0.04889829]\n",
      " [-0.1710159   1.02528712 -0.29539605]\n",
      " [-0.47613465 -1.11937394 -0.81463815]\n",
      " [ 0.97532445  2.17297554 -0.55565355]]\n"
     ]
    }
   ],
   "source": [
    "ar_04 = np.random.randn(6,3)\n",
    "print(ar_04)"
   ]
  },
  {
   "cell_type": "code",
   "execution_count": 36,
   "metadata": {},
   "outputs": [
    {
     "name": "stdout",
     "output_type": "stream",
     "text": [
      "[[ 0.48913704  0.15968486  0.43071185 -0.1710159  -0.47613465  0.97532445]\n",
      " [-1.22242351 -0.53102135  0.10474262  1.02528712 -1.11937394  2.17297554]\n",
      " [-0.30499533 -2.0729696  -0.04889829 -0.29539605 -0.81463815 -0.55565355]]\n"
     ]
    }
   ],
   "source": [
    "# Transforma linhas em colunas\n",
    "ar_05 = np.transpose(ar_04)\n",
    "print(ar_05)"
   ]
  },
  {
   "cell_type": "code",
   "execution_count": 37,
   "metadata": {},
   "outputs": [
    {
     "name": "stdout",
     "output_type": "stream",
     "text": [
      "[[ 0.48913704  0.15968486  0.43071185 -0.1710159  -0.47613465  0.97532445]\n",
      " [-1.22242351 -0.53102135  0.10474262  1.02528712 -1.11937394  2.17297554]\n",
      " [-0.30499533 -2.0729696  -0.04889829 -0.29539605 -0.81463815 -0.55565355]]\n"
     ]
    }
   ],
   "source": [
    "print(ar_04.T)"
   ]
  },
  {
   "cell_type": "code",
   "execution_count": 38,
   "metadata": {},
   "outputs": [
    {
     "name": "stdout",
     "output_type": "stream",
     "text": [
      "(6, 3)\n",
      "(3, 6)\n"
     ]
    }
   ],
   "source": [
    "print(ar_04.shape)\n",
    "print(ar_04.T.shape)"
   ]
  },
  {
   "cell_type": "code",
   "execution_count": 22,
   "metadata": {},
   "outputs": [
    {
     "name": "stdout",
     "output_type": "stream",
     "text": [
      "[[ 1.08297597  1.00100072  0.73823564 -0.22336686  1.09733963 -1.45990751]\n",
      " [ 1.00100072  1.35465056  0.27995302 -0.30564885  1.09514591 -1.91305404]\n",
      " [ 0.73823564  0.27995302  1.30433444 -0.67466649 -0.03034453 -0.46584738]\n",
      " [-0.22336686 -0.30564885 -0.67466649  0.9620128   0.77462764  0.42964793]\n",
      " [ 1.09733963  1.09514591 -0.03034453  0.77462764  2.2913135  -1.58731086]\n",
      " [-1.45990751 -1.91305404 -0.46584738  0.42964793 -1.58731086  2.70788087]]\n",
      "(6, 6)\n"
     ]
    }
   ],
   "source": [
    "# produto da matriz\n",
    "print(np.dot(ar_05.T, ar_05))\n",
    "print((np.dot(ar_05.T, ar_05).shape))"
   ]
  },
  {
   "cell_type": "code",
   "execution_count": 31,
   "metadata": {},
   "outputs": [
    {
     "name": "stdout",
     "output_type": "stream",
     "text": [
      "[[-0.03771397 -0.48632349  1.90008384]\n",
      " [-0.7425057   2.27249967 -0.14893242]]\n"
     ]
    }
   ],
   "source": [
    "ar_04 = np.random.randn(2,3)\n",
    "print(ar_04)"
   ]
  },
  {
   "cell_type": "code",
   "execution_count": 33,
   "metadata": {},
   "outputs": [
    {
     "name": "stdout",
     "output_type": "stream",
     "text": [
      "[[-0.72197696  0.94944884]\n",
      " [ 0.74119485 -0.17852897]\n",
      " [-2.13258516 -0.45235041]]\n"
     ]
    }
   ],
   "source": [
    "ar_05 = np.random.randn(3,2)\n",
    "print(ar_05)"
   ]
  },
  {
   "cell_type": "code",
   "execution_count": 34,
   "metadata": {},
   "outputs": [
    {
     "name": "stdout",
     "output_type": "stream",
     "text": [
      "[[-4.38532244 -0.80848835]\n",
      " [ 2.53804813 -1.04330856]]\n"
     ]
    }
   ],
   "source": [
    "print(np.dot(ar_04, ar_05))"
   ]
  }
 ],
 "metadata": {
  "kernelspec": {
   "display_name": "Python 3 (ipykernel)",
   "language": "python",
   "name": "python3"
  },
  "language_info": {
   "codemirror_mode": {
    "name": "ipython",
    "version": 3
   },
   "file_extension": ".py",
   "mimetype": "text/x-python",
   "name": "python",
   "nbconvert_exporter": "python",
   "pygments_lexer": "ipython3",
   "version": "3.10.9"
  }
 },
 "nbformat": 4,
 "nbformat_minor": 2
}
