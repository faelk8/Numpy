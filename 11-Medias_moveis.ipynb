{
 "cells": [
  {
   "cell_type": "code",
   "execution_count": 1,
   "metadata": {},
   "outputs": [],
   "source": [
    "import numpy as np"
   ]
  },
  {
   "cell_type": "code",
   "execution_count": 2,
   "metadata": {},
   "outputs": [],
   "source": [
    "# pip install yfinance"
   ]
  },
  {
   "cell_type": "code",
   "execution_count": 3,
   "metadata": {},
   "outputs": [],
   "source": [
    "import yfinance as yf"
   ]
  },
  {
   "cell_type": "code",
   "execution_count": 4,
   "metadata": {},
   "outputs": [],
   "source": [
    "msft = yf.Ticker(\"MSFT\")"
   ]
  },
  {
   "cell_type": "code",
   "execution_count": 5,
   "metadata": {},
   "outputs": [
    {
     "data": {
      "text/html": [
       "<div>\n",
       "<style scoped>\n",
       "    .dataframe tbody tr th:only-of-type {\n",
       "        vertical-align: middle;\n",
       "    }\n",
       "\n",
       "    .dataframe tbody tr th {\n",
       "        vertical-align: top;\n",
       "    }\n",
       "\n",
       "    .dataframe thead th {\n",
       "        text-align: right;\n",
       "    }\n",
       "</style>\n",
       "<table border=\"1\" class=\"dataframe\">\n",
       "  <thead>\n",
       "    <tr style=\"text-align: right;\">\n",
       "      <th></th>\n",
       "      <th>Open</th>\n",
       "      <th>High</th>\n",
       "      <th>Low</th>\n",
       "      <th>Close</th>\n",
       "      <th>Volume</th>\n",
       "      <th>Dividends</th>\n",
       "      <th>Stock Splits</th>\n",
       "    </tr>\n",
       "    <tr>\n",
       "      <th>Date</th>\n",
       "      <th></th>\n",
       "      <th></th>\n",
       "      <th></th>\n",
       "      <th></th>\n",
       "      <th></th>\n",
       "      <th></th>\n",
       "      <th></th>\n",
       "    </tr>\n",
       "  </thead>\n",
       "  <tbody>\n",
       "    <tr>\n",
       "      <th>2023-04-04 00:00:00-04:00</th>\n",
       "      <td>286.603468</td>\n",
       "      <td>289.816445</td>\n",
       "      <td>285.046873</td>\n",
       "      <td>286.553558</td>\n",
       "      <td>25824300</td>\n",
       "      <td>0.0</td>\n",
       "      <td>0.0</td>\n",
       "    </tr>\n",
       "    <tr>\n",
       "      <th>2023-04-05 00:00:00-04:00</th>\n",
       "      <td>285.226473</td>\n",
       "      <td>286.523625</td>\n",
       "      <td>282.302872</td>\n",
       "      <td>283.719757</td>\n",
       "      <td>22064800</td>\n",
       "      <td>0.0</td>\n",
       "      <td>0.0</td>\n",
       "    </tr>\n",
       "    <tr>\n",
       "      <th>2023-04-06 00:00:00-04:00</th>\n",
       "      <td>282.592215</td>\n",
       "      <td>291.442862</td>\n",
       "      <td>281.414796</td>\n",
       "      <td>290.963928</td>\n",
       "      <td>29770300</td>\n",
       "      <td>0.0</td>\n",
       "      <td>0.0</td>\n",
       "    </tr>\n",
       "    <tr>\n",
       "      <th>2023-04-10 00:00:00-04:00</th>\n",
       "      <td>288.579128</td>\n",
       "      <td>288.968292</td>\n",
       "      <td>284.088944</td>\n",
       "      <td>288.758759</td>\n",
       "      <td>23103000</td>\n",
       "      <td>0.0</td>\n",
       "      <td>0.0</td>\n",
       "    </tr>\n",
       "    <tr>\n",
       "      <th>2023-04-11 00:00:00-04:00</th>\n",
       "      <td>285.126687</td>\n",
       "      <td>285.356196</td>\n",
       "      <td>281.025667</td>\n",
       "      <td>282.213043</td>\n",
       "      <td>27276600</td>\n",
       "      <td>0.0</td>\n",
       "      <td>0.0</td>\n",
       "    </tr>\n",
       "  </tbody>\n",
       "</table>\n",
       "</div>"
      ],
      "text/plain": [
       "                                 Open        High         Low       Close  \\\n",
       "Date                                                                        \n",
       "2023-04-04 00:00:00-04:00  286.603468  289.816445  285.046873  286.553558   \n",
       "2023-04-05 00:00:00-04:00  285.226473  286.523625  282.302872  283.719757   \n",
       "2023-04-06 00:00:00-04:00  282.592215  291.442862  281.414796  290.963928   \n",
       "2023-04-10 00:00:00-04:00  288.579128  288.968292  284.088944  288.758759   \n",
       "2023-04-11 00:00:00-04:00  285.126687  285.356196  281.025667  282.213043   \n",
       "\n",
       "                             Volume  Dividends  Stock Splits  \n",
       "Date                                                          \n",
       "2023-04-04 00:00:00-04:00  25824300        0.0           0.0  \n",
       "2023-04-05 00:00:00-04:00  22064800        0.0           0.0  \n",
       "2023-04-06 00:00:00-04:00  29770300        0.0           0.0  \n",
       "2023-04-10 00:00:00-04:00  23103000        0.0           0.0  \n",
       "2023-04-11 00:00:00-04:00  27276600        0.0           0.0  "
      ]
     },
     "execution_count": 5,
     "metadata": {},
     "output_type": "execute_result"
    }
   ],
   "source": [
    "hist = msft.history(period=\"3mo\")\n",
    "hist.head()"
   ]
  },
  {
   "cell_type": "code",
   "execution_count": 6,
   "metadata": {},
   "outputs": [
    {
     "data": {
      "text/plain": [
       "numpy.ndarray"
      ]
     },
     "execution_count": 6,
     "metadata": {},
     "output_type": "execute_result"
    }
   ],
   "source": [
    "close = hist['Close'].to_numpy()\n",
    "type(close)"
   ]
  },
  {
   "cell_type": "code",
   "execution_count": 7,
   "metadata": {},
   "outputs": [
    {
     "name": "stdout",
     "output_type": "stream",
     "text": [
      "[ 31.83928426  63.36370171  95.69302707 127.77733358 159.13433838\n",
      " 190.56451755 222.69871351 254.42269897 286.44159275 286.57352702\n",
      " 287.02920193 286.42053223 286.01807997 285.90056017 285.00585259\n",
      " 285.61895752 287.6910909  289.73772854 291.64356486 293.52389526\n",
      " 295.5516866  297.73025513 300.93214586 304.61631266 305.90571764\n",
      " 306.73501587 307.05098809 307.42905002 307.87806871 308.69184367\n",
      " 309.72030979 310.67004395 311.82151625 313.47147624 313.87494914\n",
      " 314.3656684  316.32388645 319.00222439 321.2411126  322.84000312\n",
      " 324.40222507 326.29778035 327.93778144 329.98444621 331.04333496\n",
      " 330.97000122 330.29222276 330.3633355  331.01889038 331.54778035\n",
      " 332.95889282 333.66889106 334.15444607 335.28555637 336.89110989\n",
      " 337.80555216 337.44444105 337.47555203 337.30999756 335.85999552\n",
      " 335.66110908 335.65444268 298.59222073 260.84666612 223.6222229\n",
      " 187.11111111 149.93666585 112.61999851  75.39222209  37.55444336]\n",
      "70\n",
      "62\n"
     ]
    }
   ],
   "source": [
    "def media_movel_convolve(valor, media):\n",
    "    return np.convolve(valor, np.ones(media))/media\n",
    "\n",
    "media_9 = media_movel_convolve(close,9)\n",
    "\n",
    "print(media_9)\n",
    "print(len(media_9))\n",
    "print(len(close))"
   ]
  }
 ],
 "metadata": {
  "kernelspec": {
   "display_name": "base",
   "language": "python",
   "name": "python3"
  },
  "language_info": {
   "codemirror_mode": {
    "name": "ipython",
    "version": 3
   },
   "file_extension": ".py",
   "mimetype": "text/x-python",
   "name": "python",
   "nbconvert_exporter": "python",
   "pygments_lexer": "ipython3",
   "version": "3.10.9"
  },
  "orig_nbformat": 4
 },
 "nbformat": 4,
 "nbformat_minor": 2
}
