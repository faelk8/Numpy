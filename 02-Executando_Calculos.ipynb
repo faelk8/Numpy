{
 "cells": [
  {
   "cell_type": "code",
   "execution_count": 1,
   "metadata": {},
   "outputs": [],
   "source": [
    "import numpy as np"
   ]
  },
  {
   "cell_type": "code",
   "execution_count": 2,
   "metadata": {},
   "outputs": [
    {
     "name": "stdout",
     "output_type": "stream",
     "text": [
      "[[1 2 3]\n",
      " [4 5 6]\n",
      " [7 8 9]]\n"
     ]
    }
   ],
   "source": [
    "ar_01 = np.array([[1,2,3],[4,5,6],[7,8,9]])\n",
    "print(ar_01)"
   ]
  },
  {
   "cell_type": "markdown",
   "metadata": {},
   "source": [
    "## Multiplicação"
   ]
  },
  {
   "cell_type": "code",
   "execution_count": 3,
   "metadata": {},
   "outputs": [
    {
     "name": "stdout",
     "output_type": "stream",
     "text": [
      "[[ 2  4  6]\n",
      " [ 8 10 12]\n",
      " [14 16 18]]\n"
     ]
    }
   ],
   "source": [
<<<<<<< HEAD
    "print(ar_01 * 2)"
   ]
  },
  {
   "cell_type": "code",
   "execution_count": 4,
   "metadata": {},
   "outputs": [
    {
     "name": "stdout",
     "output_type": "stream",
     "text": [
      "[[100 200 300]\n",
      " [400 500 600]\n",
      " [700 800 900]]\n"
     ]
    }
   ],
   "source": [
    "print(ar_01 * 100)"
   ]
  },
  {
   "cell_type": "markdown",
   "metadata": {},
   "source": [
    "## Divisão"
   ]
  },
  {
   "cell_type": "code",
   "execution_count": 5,
   "metadata": {},
   "outputs": [
    {
     "name": "stdout",
     "output_type": "stream",
     "text": [
      "[[0.5 1.  1.5]\n",
      " [2.  2.5 3. ]\n",
      " [3.5 4.  4.5]]\n"
     ]
    }
   ],
   "source": [
    "# Observer que os valores eram do tipo inteiro e agora é do tipo float\n",
    "print(ar_01 / 2)"
   ]
  },
  {
=======
    "ar_01 = np.array([[1,2,3],[4,5,6]])\n",
    "print(ar_01)"
   ]
  },
  {
   "attachments": {},
>>>>>>> 3340a78c3ab6d8a431ace00691eff7f3465536cd
   "cell_type": "markdown",
   "metadata": {},
   "source": [
    "## Soma"
<<<<<<< HEAD
   ]
  },
  {
   "cell_type": "code",
   "execution_count": 6,
   "metadata": {},
   "outputs": [
    {
     "name": "stdout",
     "output_type": "stream",
     "text": [
      "[[101 102 103]\n",
      " [104 105 106]\n",
      " [107 108 109]]\n"
     ]
    }
   ],
   "source": [
    "print(ar_01 + 100)"
   ]
  },
  {
   "cell_type": "markdown",
   "metadata": {},
   "source": [
    "## Subtração"
=======
>>>>>>> 3340a78c3ab6d8a431ace00691eff7f3465536cd
   ]
  },
  {
   "cell_type": "code",
   "execution_count": 7,
   "metadata": {},
   "outputs": [
    {
     "name": "stdout",
     "output_type": "stream",
     "text": [
      "[[0 1 2]\n",
      " [3 4 5]\n",
      " [6 7 8]]\n"
     ]
    }
   ],
   "source": [
    "print(ar_01 - 1)"
   ]
  },
  {
   "cell_type": "markdown",
   "metadata": {},
   "source": [
<<<<<<< HEAD
    "## Cálculo entre 2 arrays"
=======
    "## Multiplicação"
>>>>>>> 3340a78c3ab6d8a431ace00691eff7f3465536cd
   ]
  },
  {
   "cell_type": "code",
<<<<<<< HEAD
   "execution_count": 8,
   "metadata": {},
   "outputs": [],
   "source": [
    "ar_01 = np.array([[1,2,3],[4,5,6],[7,8,9]])\n",
    "ar_02 = np.array([[7,8,9],[4,5,6],[1,2,3]])"
=======
   "execution_count": 5,
   "metadata": {},
   "outputs": [
    {
     "name": "stdout",
     "output_type": "stream",
     "text": [
      "[[100 200 300]\n",
      " [400 500 600]]\n"
     ]
    }
   ],
   "source": [
    "print(ar_01 * 100)"
   ]
  },
  {
   "attachments": {},
   "cell_type": "markdown",
   "metadata": {},
   "source": [
    "## Divisão"
   ]
  },
  {
   "cell_type": "code",
   "execution_count": 6,
   "metadata": {},
   "outputs": [
    {
     "name": "stdout",
     "output_type": "stream",
     "text": [
      "[[0.5 1.  1.5]\n",
      " [2.  2.5 3. ]]\n"
     ]
    }
   ],
   "source": [
    "# Observer que os valores eram do tipo inteiro e agora é do tipo float\n",
    "print(ar_01 / 2)"
   ]
  },
  {
   "attachments": {},
   "cell_type": "markdown",
   "metadata": {},
   "source": [
    "## Comparando 2 arrays"
>>>>>>> 3340a78c3ab6d8a431ace00691eff7f3465536cd
   ]
  },
  {
   "cell_type": "code",
   "execution_count": 9,
   "metadata": {},
   "outputs": [
    {
     "name": "stdout",
     "output_type": "stream",
     "text": [
      "[[ 6  6  6]\n",
      " [ 0  0  0]\n",
      " [-6 -6 -6]]\n"
     ]
    }
   ],
   "source": [
    "print(ar_02 - ar_01)"
   ]
  },
  {
   "cell_type": "code",
   "execution_count": 10,
   "metadata": {},
   "outputs": [
    {
     "name": "stdout",
     "output_type": "stream",
     "text": [
      "[[ 8 10 12]\n",
      " [ 8 10 12]\n",
      " [ 8 10 12]]\n"
     ]
    }
   ],
   "source": [
    "print(ar_01 + ar_02)"
   ]
  },
  {
   "cell_type": "code",
   "execution_count": 11,
   "metadata": {},
   "outputs": [
    {
     "name": "stdout",
     "output_type": "stream",
     "text": [
      "[[7.         4.         3.        ]\n",
      " [1.         1.         1.        ]\n",
      " [0.14285714 0.25       0.33333333]]\n"
     ]
    }
   ],
   "source": [
    "print(ar_02 / ar_01)"
   ]
  },
  {
   "cell_type": "code",
   "execution_count": 12,
   "metadata": {},
   "outputs": [
    {
     "name": "stdout",
     "output_type": "stream",
     "text": [
      "[[ 7 16 27]\n",
      " [16 25 36]\n",
      " [ 7 16 27]]\n"
     ]
    }
   ],
   "source": [
    "print(ar_01 * ar_02)"
   ]
  },
  {
   "cell_type": "markdown",
   "metadata": {},
   "source": [
    "# Comparando Arrays"
   ]
  },
  {
   "cell_type": "code",
   "execution_count": 13,
   "metadata": {},
   "outputs": [],
   "source": [
    "ar_01 = np.array([[1,2,3],[4,5,6],[7,8,9]])\n",
    "ar_02 = np.array([[7,8,9],[4,5,6],[1,2,3]])"
   ]
  },
  {
   "cell_type": "code",
   "execution_count": 14,
   "metadata": {},
   "outputs": [
    {
     "name": "stdout",
     "output_type": "stream",
     "text": [
      "[[False False False]\n",
      " [False False False]\n",
      " [ True  True  True]]\n"
     ]
    }
   ],
   "source": [
    "# Maior\n",
    "print(ar_01 > ar_02)"
   ]
  },
  {
   "cell_type": "code",
   "execution_count": 15,
   "metadata": {},
   "outputs": [
    {
     "name": "stdout",
     "output_type": "stream",
     "text": [
      "[[ True  True  True]\n",
      " [False False False]\n",
      " [False False False]]\n"
     ]
    }
   ],
   "source": [
    "# Menor\n",
    "print(ar_01 < ar_02)"
   ]
  },
  {
   "cell_type": "code",
   "execution_count": 16,
   "metadata": {},
   "outputs": [
    {
     "name": "stdout",
     "output_type": "stream",
     "text": [
      "[[False False False]\n",
      " [ True  True  True]\n",
      " [False False False]]\n"
     ]
    }
   ],
   "source": [
    "# Igual\n",
    "print(ar_01 == ar_02)"
   ]
  },
  {
   "cell_type": "code",
   "execution_count": 17,
   "metadata": {},
   "outputs": [
    {
     "name": "stdout",
     "output_type": "stream",
     "text": [
      "[[ True  True  True]\n",
      " [False False False]\n",
      " [ True  True  True]]\n"
     ]
    }
   ],
   "source": [
    "# Diferente \n",
    "print(ar_01 != ar_02)"
   ]
  },
  {
   "cell_type": "markdown",
   "metadata": {},
   "source": [
    "## Transposta da matriz"
   ]
  },
  {
   "cell_type": "code",
   "execution_count": 18,
   "metadata": {},
   "outputs": [
    {
     "name": "stdout",
     "output_type": "stream",
     "text": [
      "[[-0.78972538 -0.69230645 -0.77347104]\n",
      " [ 1.37080474  0.24924256 -0.04569162]\n",
      " [ 0.77606967 -1.12700974  1.65334989]\n",
      " [-0.8125247   0.23931382  1.67352434]\n",
      " [-0.455032    1.33582534  1.8085154 ]\n",
      " [-0.31024754 -1.87592574  1.56609017]]\n"
     ]
    }
   ],
   "source": [
    "ar_04 = np.random.randn(6,3)\n",
    "print(ar_04)"
   ]
  },
  {
   "cell_type": "code",
   "execution_count": 19,
   "metadata": {},
   "outputs": [
    {
     "name": "stdout",
     "output_type": "stream",
     "text": [
      "[[-0.78972538  1.37080474  0.77606967 -0.8125247  -0.455032   -0.31024754]\n",
      " [-0.69230645  0.24924256 -1.12700974  0.23931382  1.33582534 -1.87592574]\n",
      " [-0.77347104 -0.04569162  1.65334989  1.67352434  1.8085154   1.56609017]]\n"
     ]
    }
   ],
   "source": [
    "# Transforma linhas em colunas\n",
    "ar_05 = np.transpose(ar_04)\n",
    "print(ar_05)"
   ]
  },
  {
   "cell_type": "code",
   "execution_count": 20,
   "metadata": {},
   "outputs": [
    {
     "name": "stdout",
     "output_type": "stream",
     "text": [
      "[[-0.78972538  1.37080474  0.77606967 -0.8125247  -0.455032   -0.31024754]\n",
      " [-0.69230645  0.24924256 -1.12700974  0.23931382  1.33582534 -1.87592574]\n",
      " [-0.77347104 -0.04569162  1.65334989  1.67352434  1.8085154   1.56609017]]\n"
     ]
    }
   ],
   "source": [
    "print(ar_04.T)"
   ]
  },
  {
   "cell_type": "code",
   "execution_count": 21,
   "metadata": {},
   "outputs": [
    {
     "name": "stdout",
     "output_type": "stream",
     "text": [
      "(6, 3)\n",
      "(3, 6)\n"
     ]
    }
   ],
   "source": [
    "print(ar_04.shape)\n",
    "print(ar_04.T.shape)"
   ]
  },
  {
   "cell_type": "code",
   "execution_count": 22,
   "metadata": {},
   "outputs": [
    {
     "name": "stdout",
     "output_type": "stream",
     "text": [
      "[[ 1.70121186 -1.21977039 -1.11146407 -0.81842974 -1.96428448  0.33240045]\n",
      " [-1.21977039  1.94331521  0.70739696 -1.13063156 -0.37344948 -0.96440653]\n",
      " [-1.11146407  0.70739696  4.60600093  1.8666365   1.13148404  4.46270788]\n",
      " [-0.81842974 -1.13063156  1.8666365   3.51815122  3.71600075  2.42403887]\n",
      " [-1.96428448 -0.37344948  1.13148404  3.71600075  5.26221141  0.46756162]\n",
      " [ 0.33240045 -0.96440653  4.46270788  2.42403887  0.46756162  6.06798935]]\n",
      "(6, 6)\n"
     ]
    }
   ],
   "source": [
    "# produto da matriz\n",
    "print(np.dot(ar_05.T, ar_05))\n",
    "print((np.dot(ar_05.T, ar_05).shape))"
   ]
  },
  {
   "cell_type": "code",
   "execution_count": 23,
   "metadata": {},
   "outputs": [
    {
     "name": "stdout",
     "output_type": "stream",
     "text": [
      "[[ 0.30349879  0.29971298  1.04618948]\n",
      " [-0.69156213 -0.52290381 -0.17484434]]\n"
     ]
    }
   ],
   "source": [
    "ar_04 = np.random.randn(2,3)\n",
    "print(ar_04)"
   ]
  },
  {
   "cell_type": "code",
   "execution_count": 24,
   "metadata": {},
   "outputs": [
    {
     "name": "stdout",
     "output_type": "stream",
     "text": [
      "[[ 1.43429058  1.6358202 ]\n",
      " [-0.86586182  1.40857984]\n",
      " [ 0.74001437 -0.16177186]]\n"
     ]
    }
   ],
   "source": [
    "ar_05 = np.random.randn(3,2)\n",
    "print(ar_05)"
   ]
  },
  {
   "cell_type": "code",
   "execution_count": 25,
   "metadata": {},
   "outputs": [
    {
     "name": "stdout",
     "output_type": "stream",
     "text": [
      "[[ 0.94999067  0.74939509]\n",
      " [-0.66852594 -1.83953817]]\n"
     ]
    }
   ],
   "source": [
    "print(np.dot(ar_04, ar_05))"
   ]
  }
 ],
 "metadata": {
  "kernelspec": {
   "display_name": "Python 3 (ipykernel)",
   "language": "python",
   "name": "python3"
  },
  "language_info": {
   "codemirror_mode": {
    "name": "ipython",
    "version": 3
   },
   "file_extension": ".py",
   "mimetype": "text/x-python",
   "name": "python",
   "nbconvert_exporter": "python",
   "pygments_lexer": "ipython3",
   "version": "3.10.9"
  }
 },
 "nbformat": 4,
 "nbformat_minor": 2
}
