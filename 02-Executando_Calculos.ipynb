{
 "cells": [
  {
   "cell_type": "code",
   "execution_count": 1,
   "metadata": {},
   "outputs": [],
   "source": [
    "import numpy as np"
   ]
  },
  {
   "cell_type": "code",
   "execution_count": 2,
   "metadata": {},
   "outputs": [
    {
     "name": "stdout",
     "output_type": "stream",
     "text": [
      "[[1 2 3]\n",
      " [4 5 6]]\n"
     ]
    }
   ],
   "source": [
    "ar_01 = np.array([[1,2,3],[4,5,6]])\n",
    "print(ar_01)"
   ]
  },
  {
   "attachments": {},
   "cell_type": "markdown",
   "metadata": {},
   "source": [
    "## Multiplicação"
   ]
  },
  {
   "cell_type": "code",
   "execution_count": 3,
   "metadata": {},
   "outputs": [
    {
     "name": "stdout",
     "output_type": "stream",
     "text": [
      "[[ 2  4  6]\n",
      " [ 8 10 12]]\n"
     ]
    }
   ],
   "source": [
    "print(ar_01 * 2)"
   ]
  },
  {
   "cell_type": "code",
   "execution_count": 4,
   "metadata": {},
   "outputs": [
    {
     "name": "stdout",
     "output_type": "stream",
     "text": [
      "[[100 200 300]\n",
      " [400 500 600]]\n"
     ]
    }
   ],
   "source": [
    "print(ar_01 * 100)"
   ]
  },
  {
   "attachments": {},
   "cell_type": "markdown",
   "metadata": {},
   "source": [
    "## Divisão"
   ]
  },
  {
   "cell_type": "code",
   "execution_count": 5,
   "metadata": {},
   "outputs": [
    {
     "name": "stdout",
     "output_type": "stream",
     "text": [
      "[[0.5 1.  1.5]\n",
      " [2.  2.5 3. ]]\n"
     ]
    }
   ],
   "source": [
    "# Observer que os valores eram do tipo inteiro e agora é do tipo float\n",
    "print(ar_01 / 2)"
   ]
  },
  {
   "attachments": {},
   "cell_type": "markdown",
   "metadata": {},
   "source": [
    "## Soma"
   ]
  },
  {
   "cell_type": "code",
   "execution_count": 6,
   "metadata": {},
   "outputs": [
    {
     "name": "stdout",
     "output_type": "stream",
     "text": [
      "[[101 102 103]\n",
      " [104 105 106]]\n"
     ]
    }
   ],
   "source": [
    "print(ar_01 + 100)"
   ]
  },
  {
   "attachments": {},
   "cell_type": "markdown",
   "metadata": {},
   "source": [
    "## Subtração"
   ]
  },
  {
   "cell_type": "code",
   "execution_count": 7,
   "metadata": {},
   "outputs": [
    {
     "name": "stdout",
     "output_type": "stream",
     "text": [
      "[[0 1 2]\n",
      " [3 4 5]]\n"
     ]
    }
   ],
   "source": [
    "print(ar_01 - 1)"
   ]
  },
  {
   "attachments": {},
   "cell_type": "markdown",
   "metadata": {},
   "source": [
    "## Comparando 2 arrays"
   ]
  },
  {
   "cell_type": "code",
   "execution_count": 25,
   "metadata": {},
   "outputs": [
    {
     "name": "stdout",
     "output_type": "stream",
     "text": [
      "[[ True  True  True]\n",
      " [ True  True  True]]\n"
     ]
    }
   ],
   "source": [
    "ar_02 = np.array([[1,2,3],[4,5,6]])\n",
    "ar_03 = np.array([[4,5,6],[7,8,9]])\n",
    "\n",
    "print(ar_03 > ar_02)"
   ]
  },
  {
   "cell_type": "code",
   "execution_count": 26,
   "metadata": {},
   "outputs": [
    {
     "name": "stdout",
     "output_type": "stream",
     "text": [
      "[[False False False]\n",
      " [False False False]]\n"
     ]
    }
   ],
   "source": [
    "print(ar_03 < ar_02)"
   ]
  },
  {
   "cell_type": "code",
   "execution_count": 27,
   "metadata": {},
   "outputs": [
    {
     "name": "stdout",
     "output_type": "stream",
     "text": [
      "[[False False False]\n",
      " [False False False]]\n"
     ]
    }
   ],
   "source": [
    "print(ar_03 == ar_02)"
   ]
  },
  {
   "cell_type": "code",
   "execution_count": 28,
   "metadata": {},
   "outputs": [
    {
     "name": "stdout",
     "output_type": "stream",
     "text": [
      "[[ True  True  True]\n",
      " [ True  True  True]]\n"
     ]
    }
   ],
   "source": [
    "print(ar_03 != ar_02)"
   ]
  },
  {
   "attachments": {},
   "cell_type": "markdown",
   "metadata": {},
   "source": [
    "## Opreção entre arrays"
   ]
  },
  {
   "cell_type": "code",
   "execution_count": 12,
   "metadata": {},
   "outputs": [
    {
     "name": "stdout",
     "output_type": "stream",
     "text": [
      "[[-3 -3 -3]\n",
      " [ 6  6  6]]\n"
     ]
    }
   ],
   "source": [
    "print(ar_03 - ar_02)"
   ]
  },
  {
   "cell_type": "code",
   "execution_count": 13,
   "metadata": {},
   "outputs": [
    {
     "name": "stdout",
     "output_type": "stream",
     "text": [
      "[[ 5  7  9]\n",
      " [ 8 10 12]]\n"
     ]
    }
   ],
   "source": [
    "print(ar_03 + ar_02)"
   ]
  },
  {
   "cell_type": "code",
   "execution_count": 14,
   "metadata": {},
   "outputs": [
    {
     "name": "stdout",
     "output_type": "stream",
     "text": [
      "[[0.25 0.4  0.5 ]\n",
      " [7.   4.   3.  ]]\n"
     ]
    }
   ],
   "source": [
    "print(ar_03 / ar_02)"
   ]
  },
  {
   "cell_type": "code",
   "execution_count": 15,
   "metadata": {},
   "outputs": [
    {
     "name": "stdout",
     "output_type": "stream",
     "text": [
      "[[ 4 10 18]\n",
      " [ 7 16 27]]\n"
     ]
    }
   ],
   "source": [
    "print(ar_03 * ar_02)"
   ]
  },
  {
   "attachments": {},
   "cell_type": "markdown",
   "metadata": {},
   "source": [
    "## Transposta da matriz"
   ]
  },
  {
   "cell_type": "code",
   "execution_count": 30,
   "metadata": {},
   "outputs": [
    {
     "name": "stdout",
     "output_type": "stream",
     "text": [
      "[[ 0.06602939  0.28682194 -0.59393715]\n",
      " [ 0.51146661  0.72902029 -1.20245125]\n",
      " [-0.97118928 -1.47056868 -1.89411247]\n",
      " [ 1.35589447 -0.04612108  0.34797932]\n",
      " [ 0.6125759  -2.06669193 -0.27742747]\n",
      " [ 0.95274574  1.96280198  0.28933024]]\n"
     ]
    }
   ],
   "source": [
    "ar_04 = np.random.randn(6,3)\n",
    "print(ar_04)"
   ]
  },
  {
   "cell_type": "code",
   "execution_count": 31,
   "metadata": {},
   "outputs": [
    {
     "name": "stdout",
     "output_type": "stream",
     "text": [
      "[[ 0.06602939  0.51146661 -0.97118928  1.35589447  0.6125759   0.95274574]\n",
      " [ 0.28682194  0.72902029 -1.47056868 -0.04612108 -2.06669193  1.96280198]\n",
      " [-0.59393715 -1.20245125 -1.89411247  0.34797932 -0.27742747  0.28933024]]\n"
     ]
    }
   ],
   "source": [
    "ar_05 = np.transpose(ar_04)\n",
    "print(ar_05)"
   ]
  },
  {
   "cell_type": "code",
   "execution_count": 32,
   "metadata": {},
   "outputs": [
    {
     "data": {
      "text/plain": [
       "array([[ 0.06602939,  0.51146661, -0.97118928,  1.35589447,  0.6125759 ,\n",
       "         0.95274574],\n",
       "       [ 0.28682194,  0.72902029, -1.47056868, -0.04612108, -2.06669193,\n",
       "         1.96280198],\n",
       "       [-0.59393715, -1.20245125, -1.89411247,  0.34797932, -0.27742747,\n",
       "         0.28933024]])"
      ]
     },
     "execution_count": 32,
     "metadata": {},
     "output_type": "execute_result"
    }
   ],
   "source": [
    "ar_04.T"
   ]
  },
  {
   "cell_type": "code",
   "execution_count": 33,
   "metadata": {},
   "outputs": [
    {
     "name": "stdout",
     "output_type": "stream",
     "text": [
      "(6, 3)\n",
      "(3, 6)\n"
     ]
    }
   ],
   "source": [
    "print(ar_04.shape)\n",
    "print(ar_04.T.shape)"
   ]
  },
  {
   "cell_type": "code",
   "execution_count": 34,
   "metadata": {},
   "outputs": [
    {
     "name": "stdout",
     "output_type": "stream",
     "text": [
      "[[ 0.43938804  0.95705131  0.63906536 -0.1303775  -0.3875501   0.45403992]\n",
      " [ 0.95705131  2.23895768  0.7087726   0.24144337 -0.85975523  1.57031459]\n",
      " [ 0.63906536  0.7087726   6.69344292 -1.90811794  2.96976411 -4.3597556 ]\n",
      " [-0.1303775   0.24144337 -1.90811794  1.96166657  0.8293673   1.30197708]\n",
      " [-0.3875501  -0.85975523  2.96976411  0.8293673   4.72343075 -3.55314609]\n",
      " [ 0.45403992  1.57031459 -4.3597556   1.30197708 -3.55314609  4.84402805]]\n",
      "(6, 6)\n"
     ]
    }
   ],
   "source": [
    "# produto da matriz\n",
    "print(np.dot(ar_05.T, ar_05))\n",
    "print((np.dot(ar_05.T, ar_05).shape))"
   ]
  },
  {
   "attachments": {},
   "cell_type": "markdown",
   "metadata": {},
   "source": [
    "## Produto da Matriz"
   ]
  },
  {
   "cell_type": "code",
   "execution_count": 36,
   "metadata": {},
   "outputs": [
    {
     "name": "stdout",
     "output_type": "stream",
     "text": [
      "[[-1.28490211  0.34510777 -0.66425383]\n",
      " [-1.64705756  1.76126538 -1.21508529]]\n"
     ]
    }
   ],
   "source": [
    "ar_06 = np.random.randn(2,3)\n",
    "print(ar_06)"
   ]
  },
  {
   "cell_type": "code",
   "execution_count": 37,
   "metadata": {},
   "outputs": [
    {
     "name": "stdout",
     "output_type": "stream",
     "text": [
      "[[-0.63613188  1.04162429]\n",
      " [ 0.15829356  1.30184907]\n",
      " [ 1.56009835 -0.17869165]]\n"
     ]
    }
   ],
   "source": [
    "ar_07 = np.random.randn(3,2)\n",
    "print(ar_07)"
   ]
  },
  {
   "cell_type": "code",
   "execution_count": 39,
   "metadata": {},
   "outputs": [
    {
     "name": "stdout",
     "output_type": "stream",
     "text": [
      "[[-0.16430577 -0.7704104 ]\n",
      " [-0.56910978  0.79441213]]\n"
     ]
    }
   ],
   "source": [
    "print(np.dot(ar_06, ar_07))"
   ]
  }
 ],
 "metadata": {
  "kernelspec": {
   "display_name": "base",
   "language": "python",
   "name": "python3"
  },
  "language_info": {
   "codemirror_mode": {
    "name": "ipython",
    "version": 3
   },
   "file_extension": ".py",
   "mimetype": "text/x-python",
   "name": "python",
   "nbconvert_exporter": "python",
   "pygments_lexer": "ipython3",
   "version": "3.10.9"
  },
  "orig_nbformat": 4
 },
 "nbformat": 4,
 "nbformat_minor": 2
}
