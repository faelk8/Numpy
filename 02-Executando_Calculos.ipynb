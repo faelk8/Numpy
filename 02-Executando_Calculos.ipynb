{
 "cells": [
  {
   "cell_type": "code",
   "execution_count": 2,
   "metadata": {},
   "outputs": [],
   "source": [
    "import numpy as np"
   ]
  },
  {
   "cell_type": "code",
   "execution_count": 3,
   "metadata": {},
   "outputs": [
    {
     "name": "stdout",
     "output_type": "stream",
     "text": [
      "[[1 2 3]\n",
      " [4 5 6]]\n"
     ]
    }
   ],
   "source": [
    "ar_01 = np.array([[1,2,3],[4,5,6]])\n",
    "print(ar_01)"
   ]
  },
  {
   "attachments": {},
   "cell_type": "markdown",
   "metadata": {},
   "source": [
    "## Multiplicação"
   ]
  },
  {
   "cell_type": "code",
   "execution_count": 4,
   "metadata": {},
   "outputs": [
    {
     "name": "stdout",
     "output_type": "stream",
     "text": [
      "[[ 2  4  6]\n",
      " [ 8 10 12]]\n"
     ]
    }
   ],
   "source": [
    "print(ar_01 * 2)"
   ]
  },
  {
   "cell_type": "code",
   "execution_count": 5,
   "metadata": {},
   "outputs": [
    {
     "name": "stdout",
     "output_type": "stream",
     "text": [
      "[[100 200 300]\n",
      " [400 500 600]]\n"
     ]
    }
   ],
   "source": [
    "print(ar_01 * 100)"
   ]
  },
  {
   "attachments": {},
   "cell_type": "markdown",
   "metadata": {},
   "source": [
    "## Divisão"
   ]
  },
  {
   "cell_type": "code",
   "execution_count": 6,
   "metadata": {},
   "outputs": [
    {
     "name": "stdout",
     "output_type": "stream",
     "text": [
      "[[0.5 1.  1.5]\n",
      " [2.  2.5 3. ]]\n"
     ]
    }
   ],
   "source": [
    "# Observer que os valores eram do tipo inteiro e agora é do tipo float\n",
    "print(ar_01 / 2)"
   ]
  },
  {
   "attachments": {},
   "cell_type": "markdown",
   "metadata": {},
   "source": [
    "## Soma"
   ]
  },
  {
   "cell_type": "code",
   "execution_count": 7,
   "metadata": {},
   "outputs": [
    {
     "name": "stdout",
     "output_type": "stream",
     "text": [
      "[[101 102 103]\n",
      " [104 105 106]]\n"
     ]
    }
   ],
   "source": [
    "print(ar_01 + 100)"
   ]
  },
  {
   "attachments": {},
   "cell_type": "markdown",
   "metadata": {},
   "source": [
    "## Subtração"
   ]
  },
  {
   "cell_type": "code",
   "execution_count": 8,
   "metadata": {},
   "outputs": [
    {
     "name": "stdout",
     "output_type": "stream",
     "text": [
      "[[0 1 2]\n",
      " [3 4 5]]\n"
     ]
    }
   ],
   "source": [
    "print(ar_01 - 1)"
   ]
  },
  {
   "attachments": {},
   "cell_type": "markdown",
   "metadata": {},
   "source": [
    "## Comparando 2 arrays"
   ]
  },
  {
   "cell_type": "code",
   "execution_count": 9,
   "metadata": {},
   "outputs": [
    {
     "data": {
      "text/plain": [
       "array([[False, False, False],\n",
       "       [False, False, False]])"
      ]
     },
     "execution_count": 9,
     "metadata": {},
     "output_type": "execute_result"
    }
   ],
   "source": [
    "ar_02 = np.array([[1,2,3],[4,5,6]])\n",
    "ar_03 = np.array([[4,5,6],[7,8,9]])\n",
    "\n",
    "ar_02 > ar_03"
   ]
  },
  {
   "cell_type": "code",
   "execution_count": 21,
   "metadata": {},
   "outputs": [
    {
     "data": {
      "text/plain": [
       "array([[ True,  True,  True],\n",
       "       [False, False, False]])"
      ]
     },
     "execution_count": 21,
     "metadata": {},
     "output_type": "execute_result"
    }
   ],
   "source": [
    "ar_02 = np.array([[4,5,6],[1,2,3]])\n",
    "ar_03 = np.array([[1,2,3],[7,8,9]])\n",
    "\n",
    "ar_02 > ar_03"
   ]
  },
  {
   "cell_type": "code",
   "execution_count": 22,
   "metadata": {},
   "outputs": [
    {
     "name": "stdout",
     "output_type": "stream",
     "text": [
      "[[-3 -3 -3]\n",
      " [ 6  6  6]]\n"
     ]
    }
   ],
   "source": [
    "print(ar_03 - ar_02)"
   ]
  },
  {
   "cell_type": "code",
   "execution_count": 23,
   "metadata": {},
   "outputs": [
    {
     "name": "stdout",
     "output_type": "stream",
     "text": [
      "[[ 5  7  9]\n",
      " [ 8 10 12]]\n"
     ]
    }
   ],
   "source": [
    "print(ar_03 + ar_02)"
   ]
  },
  {
   "cell_type": "code",
   "execution_count": 24,
   "metadata": {},
   "outputs": [
    {
     "name": "stdout",
     "output_type": "stream",
     "text": [
      "[[0.25 0.4  0.5 ]\n",
      " [7.   4.   3.  ]]\n"
     ]
    }
   ],
   "source": [
    "print(ar_03 / ar_02)"
   ]
  },
  {
   "cell_type": "code",
   "execution_count": 25,
   "metadata": {},
   "outputs": [
    {
     "name": "stdout",
     "output_type": "stream",
     "text": [
      "[[ 4 10 18]\n",
      " [ 7 16 27]]\n"
     ]
    }
   ],
   "source": [
    "print(ar_03 * ar_02)"
   ]
  },
  {
   "attachments": {},
   "cell_type": "markdown",
   "metadata": {},
   "source": [
    "## Transposta da matriz"
   ]
  },
  {
   "cell_type": "code",
   "execution_count": 26,
   "metadata": {},
   "outputs": [
    {
     "name": "stdout",
     "output_type": "stream",
     "text": [
      "[[ 0.03976512  0.43689736 -0.42897808]\n",
      " [ 0.49714627 -0.31034947 -0.78281079]\n",
      " [ 1.91164453  0.75065328  0.52616404]\n",
      " [-0.63191312 -0.71076625 -0.70316225]\n",
      " [ 0.77504987  0.50910825 -0.30909888]\n",
      " [-1.43356879  0.52274127 -0.26020723]]\n"
     ]
    }
   ],
   "source": [
    "ar_04 = np.random.randn(6,3)\n",
    "print(ar_04)"
   ]
  },
  {
   "cell_type": "code",
   "execution_count": 27,
   "metadata": {},
   "outputs": [
    {
     "name": "stdout",
     "output_type": "stream",
     "text": [
      "[[ 0.03976512  0.49714627  1.91164453 -0.63191312  0.77504987 -1.43356879]\n",
      " [ 0.43689736 -0.31034947  0.75065328 -0.71076625  0.50910825  0.52274127]\n",
      " [-0.42897808 -0.78281079  0.52616404 -0.70316225 -0.30909888 -0.26020723]]\n"
     ]
    }
   ],
   "source": [
    "ar_05 = np.transpose(ar_04)\n",
    "print(ar_05)"
   ]
  },
  {
   "cell_type": "code",
   "execution_count": 29,
   "metadata": {},
   "outputs": [
    {
     "data": {
      "text/plain": [
       "array([[ 0.03976512,  0.49714627,  1.91164453, -0.63191312,  0.77504987,\n",
       "        -1.43356879],\n",
       "       [ 0.43689736, -0.31034947,  0.75065328, -0.71076625,  0.50910825,\n",
       "         0.52274127],\n",
       "       [-0.42897808, -0.78281079,  0.52616404, -0.70316225, -0.30909888,\n",
       "        -0.26020723]])"
      ]
     },
     "execution_count": 29,
     "metadata": {},
     "output_type": "execute_result"
    }
   ],
   "source": [
    "ar_04.T"
   ]
  },
  {
   "cell_type": "code",
   "execution_count": 31,
   "metadata": {},
   "outputs": [
    {
     "name": "stdout",
     "output_type": "stream",
     "text": [
      "(6, 3)\n",
      "(3, 6)\n"
     ]
    }
   ],
   "source": [
    "print(ar_04.shape)\n",
    "print(ar_04.T.shape)"
   ]
  },
  {
   "cell_type": "code",
   "execution_count": 33,
   "metadata": {},
   "outputs": [
    {
     "name": "stdout",
     "output_type": "stream",
     "text": [
      "[[ 0.37648276  0.21998689  0.17826237 -0.0340188   0.38584465  0.28300144]\n",
      " [ 0.21998689  0.95626393  0.30551521  0.45687567  0.46927761 -0.67123282]\n",
      " [ 0.17826237  0.30551521  4.49471377 -2.11151097  1.70114692 -2.48498818]\n",
      " [-0.0340188   0.45687567 -2.11151097  1.39894    -0.63427448  0.71731198]\n",
      " [ 0.38584465  0.46927761  1.70114692 -0.63427448  0.95543564 -0.76452565]\n",
      " [ 0.28300144 -0.67123282 -2.48498818  0.71731198 -0.76452565  2.39608572]]\n",
      "(6, 6)\n"
     ]
    }
   ],
   "source": [
    "# produto da matriz\n",
    "print(np.dot(ar_05.T, ar_05))\n",
    "print((np.dot(ar_05.T, ar_05).shape))"
   ]
  }
 ],
 "metadata": {
  "kernelspec": {
   "display_name": "base",
   "language": "python",
   "name": "python3"
  },
  "language_info": {
   "codemirror_mode": {
    "name": "ipython",
    "version": 3
   },
   "file_extension": ".py",
   "mimetype": "text/x-python",
   "name": "python",
   "nbconvert_exporter": "python",
   "pygments_lexer": "ipython3",
   "version": "3.10.9"
  },
  "orig_nbformat": 4
 },
 "nbformat": 4,
 "nbformat_minor": 2
}
