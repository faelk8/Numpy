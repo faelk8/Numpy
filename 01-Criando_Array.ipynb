{
 "cells": [
  {
   "cell_type": "code",
   "execution_count": 1,
   "metadata": {},
   "outputs": [],
   "source": [
    "import numpy as np"
   ]
  },
  {
   "cell_type": "markdown",
   "metadata": {},
   "source": [
    "## Array 1D"
   ]
  },
  {
   "cell_type": "code",
   "execution_count": 2,
   "metadata": {},
   "outputs": [
    {
     "name": "stdout",
     "output_type": "stream",
     "text": [
<<<<<<< HEAD
      "[ 0.6470121   1.08766399 -0.45337372 -0.1304225   0.68175584]\n",
      "(5,)\n"
=======
      "[1.05335413 0.31432598]\n",
      "(2,)\n"
>>>>>>> 3340a78c3ab6d8a431ace00691eff7f3465536cd
     ]
    }
   ],
   "source": [
    "# Criando um array 1 dimensão\n",
    "ar_1d = np.random.randn(5)\n",
    "print(ar_1d)\n",
    "print(ar_1d.shape)"
   ]
  },
  {
   "cell_type": "markdown",
   "metadata": {},
   "source": [
    "## Array 2D"
   ]
  },
  {
   "cell_type": "code",
   "execution_count": 3,
   "metadata": {},
   "outputs": [
    {
     "name": "stdout",
     "output_type": "stream",
     "text": [
<<<<<<< HEAD
      "[[-1.91927457 -1.47549228  2.19113961 -0.07481307  0.5391928 ]\n",
      " [-0.47218571  0.32026643 -0.06972738 -0.07353202  0.5589429 ]\n",
      " [ 0.15113078  1.51013282 -0.03908158  1.42402854 -1.96687629]]\n",
      "(3, 5)\n"
=======
      "[[-0.03354177 -0.21425838  0.62875015]\n",
      " [-0.36304752 -1.27659339 -0.35242954]]\n",
      "(2, 3)\n"
>>>>>>> 3340a78c3ab6d8a431ace00691eff7f3465536cd
     ]
    }
   ],
   "source": [
    "# Criando um array com 3 linhas e 5 colunas\n",
    "ar_2d = np.random.randn(3,5)\n",
    "print(ar_2d)\n",
    "print(ar_2d.shape)"
   ]
  },
  {
   "cell_type": "markdown",
   "metadata": {},
   "source": [
    "## Array 3D"
   ]
  },
  {
   "cell_type": "code",
   "execution_count": 4,
   "metadata": {},
   "outputs": [
    {
     "name": "stdout",
     "output_type": "stream",
     "text": [
<<<<<<< HEAD
      "[[[-1.11727624  0.51109022]\n",
      "  [-0.75182244 -1.11489322]\n",
      "  [-1.48825387  1.98059539]\n",
      "  [-0.46533487 -0.25012401]\n",
      "  [ 1.22438795  0.14835712]]\n",
      "\n",
      " [[ 0.62685278 -1.1941088 ]\n",
      "  [ 0.80606043 -0.98468178]\n",
      "  [ 1.50582377  1.11096224]\n",
      "  [-0.20713366  1.20119323]\n",
      "  [ 0.12207917  0.39750077]]\n",
      "\n",
      " [[ 0.15705192 -1.01829   ]\n",
      "  [ 1.67640278 -1.05038636]\n",
      "  [-1.02576351  0.18514152]\n",
      "  [-0.3750974  -1.2089999 ]\n",
      "  [ 0.03648241  0.29189169]]]\n",
      "(3, 5, 2)\n"
=======
      "[[[-1.62552825  0.94360741  0.0184239  -0.49139598 -1.50469343]\n",
      "  [ 2.03838896 -0.86565214  0.44697039  0.85745717  1.27998673]\n",
      "  [-0.53070739 -1.44000389 -1.8044138   0.97969716 -0.43352156]]\n",
      "\n",
      " [[ 1.63883124  0.41005465 -1.41692442  1.32419747  0.7630903 ]\n",
      "  [ 0.72365031  1.02037424  1.13027625  1.60463485 -0.98481377]\n",
      "  [ 0.50084636 -1.20817114  0.06807888 -0.01678538  1.50707357]]]\n",
      "(2, 3, 5)\n"
>>>>>>> 3340a78c3ab6d8a431ace00691eff7f3465536cd
     ]
    }
   ],
   "source": [
    "# Criando um array com 3D\n",
<<<<<<< HEAD
    "ar_3d = np.random.randn(3,5,2)\n",
=======
    "ar_3d = np.random.randn(2,3,5)\n",
>>>>>>> 3340a78c3ab6d8a431ace00691eff7f3465536cd
    "print(ar_3d)\n",
    "print(ar_3d.shape)"
   ]
  },
  {
   "cell_type": "markdown",
   "metadata": {},
   "source": [
    "## Array 4D"
   ]
  },
  {
   "cell_type": "code",
   "execution_count": 5,
   "metadata": {},
   "outputs": [
    {
     "name": "stdout",
     "output_type": "stream",
     "text": [
<<<<<<< HEAD
      "[[[[-0.01027755  0.89616265]\n",
      "   [ 0.4835019   0.40924852]]\n",
      "\n",
      "  [[ 1.0373572  -0.77892289]\n",
      "   [-0.39865371 -0.06499762]]\n",
      "\n",
      "  [[-0.06118185  0.50811207]\n",
      "   [-0.57041146  1.49449313]]]\n",
      "\n",
      "\n",
      " [[[ 0.43195271 -0.62451846]\n",
      "   [-0.80693695 -2.15698449]]\n",
      "\n",
      "  [[ 1.52836945 -2.1105467 ]\n",
      "   [ 0.8983693  -1.31806239]]\n",
      "\n",
      "  [[ 1.51270783 -0.9074329 ]\n",
      "   [ 0.25310526  0.68965895]]]\n",
      "\n",
      "\n",
      " [[[ 0.07782347  0.7468796 ]\n",
      "   [-0.01607754  1.40154983]]\n",
      "\n",
      "  [[-0.89362449 -1.22613821]\n",
      "   [-0.58727732 -1.62075937]]\n",
      "\n",
      "  [[-0.14641579  0.49553589]\n",
      "   [-0.16570424  0.8958892 ]]]]\n",
=======
      "[[[[-0.98804578 -0.66803273]\n",
      "   [ 1.47169869  0.49254464]]\n",
      "\n",
      "  [[-1.61131089 -1.37351173]\n",
      "   [-0.88150857 -0.04296118]]\n",
      "\n",
      "  [[-0.94709358  0.06280852]\n",
      "   [-1.07160092  0.34641896]]]\n",
      "\n",
      "\n",
      " [[[ 0.70294826 -0.13223053]\n",
      "   [-0.31643536 -0.52727417]]\n",
      "\n",
      "  [[ 0.46576598  0.03630911]\n",
      "   [-0.77405957  2.97281153]]\n",
      "\n",
      "  [[ 0.02585572  0.64280195]\n",
      "   [-0.92795651 -0.36973134]]]\n",
      "\n",
      "\n",
      " [[[ 1.29633088  1.59589046]\n",
      "   [-0.42797657  0.91943383]]\n",
      "\n",
      "  [[ 0.24602983  0.7740874 ]\n",
      "   [-0.10655421 -1.03571261]]\n",
      "\n",
      "  [[-0.73985688 -1.59845812]\n",
      "   [-0.7812887  -1.14485298]]]]\n",
>>>>>>> 3340a78c3ab6d8a431ace00691eff7f3465536cd
      "(3, 3, 2, 2)\n"
     ]
    }
   ],
   "source": [
    "ar_4d = np.random.randn(3,3,2,2)\n",
    "print(ar_4d)\n",
    "print(ar_4d.shape)"
   ]
  },
  {
   "cell_type": "markdown",
   "metadata": {},
   "source": [
    "## Array 1D - Lista de Valores"
   ]
  },
  {
   "cell_type": "code",
   "execution_count": 6,
   "metadata": {},
   "outputs": [
    {
     "name": "stdout",
     "output_type": "stream",
     "text": [
      "[1 2 3]\n",
      "<class 'numpy.ndarray'>\n"
     ]
    }
   ],
   "source": [
    "array_01 = [1,2,3]\n",
    "array_01 = np.array(array_01)\n",
    "print(array_01)\n",
    "print(type(array_01))"
   ]
  },
  {
   "cell_type": "markdown",
   "metadata": {},
   "source": [
    "## Array 2D - Lista de Valores"
   ]
  },
  {
   "cell_type": "code",
   "execution_count": 7,
   "metadata": {},
   "outputs": [
    {
     "name": "stdout",
     "output_type": "stream",
     "text": [
      "[[1 2 3]\n",
      " [4 5 6]]\n",
      "<class 'numpy.ndarray'>\n"
     ]
    }
   ],
   "source": [
    "array_02 = [[1,2,3],[4,5,6]]\n",
    "array_02 = np.array(array_02)\n",
    "print(array_02)\n",
    "print(type(array_02))"
   ]
  },
  {
   "cell_type": "markdown",
   "metadata": {},
   "source": [
    "## Array Com Valor Zero"
   ]
  },
  {
   "cell_type": "code",
   "execution_count": 8,
   "metadata": {},
   "outputs": [
    {
     "name": "stdout",
     "output_type": "stream",
     "text": [
      "[0. 0. 0. 0. 0. 0. 0. 0. 0. 0.]\n"
     ]
    }
   ],
   "source": [
    "print(np.zeros(10))"
   ]
  },
  {
   "cell_type": "code",
   "execution_count": 9,
   "metadata": {},
   "outputs": [
    {
     "name": "stdout",
     "output_type": "stream",
     "text": [
      "[[0. 0. 0.]\n",
      " [0. 0. 0.]]\n"
     ]
    }
   ],
   "source": [
    "print(np.zeros((2,3)))"
   ]
  },
  {
   "cell_type": "code",
   "execution_count": 10,
   "metadata": {},
   "outputs": [
    {
     "name": "stdout",
     "output_type": "stream",
     "text": [
      "[[[0. 0. 0.]\n",
      "  [0. 0. 0.]\n",
      "  [0. 0. 0.]]\n",
      "\n",
      " [[0. 0. 0.]\n",
      "  [0. 0. 0.]\n",
      "  [0. 0. 0.]]]\n"
     ]
    }
   ],
   "source": [
    "print(np.zeros((2,3,3)))"
   ]
  },
  {
   "cell_type": "markdown",
   "metadata": {},
   "source": [
    "## Array Com Valor Um"
   ]
  },
  {
   "cell_type": "code",
   "execution_count": 11,
   "metadata": {},
   "outputs": [
    {
     "name": "stdout",
     "output_type": "stream",
     "text": [
      "[1. 1. 1. 1. 1. 1. 1. 1. 1. 1.]\n"
     ]
    }
   ],
   "source": [
    "print(np.ones(10))"
   ]
  },
  {
   "cell_type": "code",
   "execution_count": 12,
   "metadata": {},
   "outputs": [
    {
     "name": "stdout",
     "output_type": "stream",
     "text": [
      "[[1. 1. 1.]\n",
      " [1. 1. 1.]]\n"
     ]
    }
   ],
   "source": [
    "print(np.ones((2,3)))"
   ]
  },
  {
   "cell_type": "code",
   "execution_count": 13,
   "metadata": {},
   "outputs": [
    {
     "name": "stdout",
     "output_type": "stream",
     "text": [
      "[[[1. 1. 1.]\n",
      "  [1. 1. 1.]\n",
      "  [1. 1. 1.]]\n",
      "\n",
      " [[1. 1. 1.]\n",
      "  [1. 1. 1.]\n",
      "  [1. 1. 1.]]]\n"
     ]
    }
   ],
   "source": [
    "print(np.ones((2,3,3)))"
   ]
  },
  {
   "cell_type": "markdown",
   "metadata": {},
   "source": [
    "## Tipo de Valores"
   ]
  },
  {
   "cell_type": "code",
   "execution_count": 14,
   "metadata": {},
   "outputs": [
    {
     "name": "stdout",
     "output_type": "stream",
     "text": [
      "[1. 2. 3.]\n",
      "float32\n"
     ]
    }
   ],
   "source": [
    "array_03 = np.array([1,2,3], dtype=np.float32)\n",
    "print(array_03)\n",
    "print(array_03.dtype)"
   ]
  },
  {
   "cell_type": "code",
   "execution_count": 15,
   "metadata": {},
   "outputs": [
    {
     "name": "stdout",
     "output_type": "stream",
     "text": [
      "[1 2 3]\n",
      "int32\n"
     ]
    }
   ],
   "source": [
    "array_04 = np.array([1,2,3], dtype=np.int32)\n",
    "print(array_04)\n",
    "print(array_04.dtype)"
   ]
  },
  {
   "cell_type": "code",
   "execution_count": 16,
   "metadata": {},
   "outputs": [
    {
     "name": "stdout",
     "output_type": "stream",
     "text": [
      "[1. 2. 3.]\n",
      "float64\n"
     ]
    }
   ],
   "source": [
    "array_05 = np.array([1,2,3], dtype=np.float64)\n",
    "print(array_05)\n",
    "print(array_05.dtype)"
   ]
  },
  {
   "cell_type": "markdown",
   "metadata": {},
   "source": [
    "## Convertendo Valores"
   ]
  },
  {
   "cell_type": "code",
   "execution_count": 17,
   "metadata": {},
   "outputs": [
    {
     "name": "stdout",
     "output_type": "stream",
     "text": [
      "int32\n",
      "float64\n"
     ]
    }
   ],
   "source": [
    "array_07 = np.array([1,2,3], dtype=np.int32)\n",
    "print(array_07.dtype)\n",
    "\n",
    "# Convertendo \n",
    "array_07 = array_07.astype(float)\n",
    "print(array_07.dtype)"
   ]
  },
  {
   "cell_type": "markdown",
   "metadata": {},
   "source": [
    "## Array de string"
   ]
  },
  {
   "cell_type": "code",
   "execution_count": 18,
   "metadata": {},
   "outputs": [
    {
     "name": "stdout",
     "output_type": "stream",
     "text": [
      "['um' 'dois' 'três']\n"
     ]
    }
   ],
   "source": [
    "array_05 = np.array(['um','dois','três'])\n",
    "print(array_05)"
   ]
  }
 ],
 "metadata": {
  "kernelspec": {
   "display_name": "Python 3 (ipykernel)",
   "language": "python",
   "name": "python3"
  },
  "language_info": {
   "codemirror_mode": {
    "name": "ipython",
    "version": 3
   },
   "file_extension": ".py",
   "mimetype": "text/x-python",
   "name": "python",
   "nbconvert_exporter": "python",
   "pygments_lexer": "ipython3",
   "version": "3.10.9"
  }
 },
 "nbformat": 4,
 "nbformat_minor": 2
}
