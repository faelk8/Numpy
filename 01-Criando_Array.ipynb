{
 "cells": [
  {
   "cell_type": "code",
   "execution_count": 1,
   "metadata": {},
   "outputs": [],
   "source": [
    "import numpy as np\n",
    "import pandas as pd"
   ]
  },
  {
   "attachments": {},
   "cell_type": "markdown",
   "metadata": {},
   "source": [
    "## Array 1D"
   ]
  },
  {
   "attachments": {},
   "cell_type": "markdown",
   "metadata": {},
   "source": [
    "![imagem](https://www.ankitweblogic.com/images/1d-array.png)"
   ]
  },
  {
   "cell_type": "code",
   "execution_count": 2,
   "metadata": {},
   "outputs": [
    {
     "name": "stdout",
     "output_type": "stream",
     "text": [
      "[-1.06889957  1.38817416  1.02013965 -0.26039972 -1.24055318]\n",
      "(5,)\n"
     ]
    }
   ],
   "source": [
    "# Criando um array 1 dimensão\n",
    "ar_1d = np.random.randn(5)\n",
    "print(ar_1d)\n",
    "print(ar_1d.shape)"
   ]
  },
  {
   "attachments": {},
   "cell_type": "markdown",
   "metadata": {},
   "source": [
    "## Array 2D"
   ]
  },
  {
   "attachments": {},
   "cell_type": "markdown",
   "metadata": {},
   "source": [
    "![imagem](https://www.oreilly.com/api/v2/epubs/9781449323592/files/httpatomoreillycomsourceoreillyimages2172112.png)"
   ]
  },
  {
   "cell_type": "code",
   "execution_count": 3,
   "metadata": {},
   "outputs": [
    {
     "name": "stdout",
     "output_type": "stream",
     "text": [
      "[[-0.09890882  1.38782921  1.83995294]\n",
      " [-0.15268205  0.54874622 -1.13888515]]\n",
      "(2, 3)\n"
     ]
    }
   ],
   "source": [
    "# Criando um array com 2 linhas e 3 colunas\n",
    "ar_2d = np.random.randn(2,3)\n",
    "print(ar_2d)\n",
    "print(ar_2d.shape)"
   ]
  },
  {
   "attachments": {},
   "cell_type": "markdown",
   "metadata": {},
   "source": [
    "## Array 3D"
   ]
  },
  {
   "attachments": {},
   "cell_type": "markdown",
   "metadata": {},
   "source": [
    "![imagem](https://ipython-books.github.io/pages/chapter01_basic/images/numpy.png)"
   ]
  },
  {
   "cell_type": "code",
   "execution_count": 4,
   "metadata": {},
   "outputs": [
    {
     "name": "stdout",
     "output_type": "stream",
     "text": [
      "[[[ 0.55073949  0.25542605]\n",
      "  [ 0.44302514  0.68028749]\n",
      "  [ 2.42658664 -0.63766174]]\n",
      "\n",
      " [[ 0.44328829  0.81970165]\n",
      "  [-0.34492188 -0.247601  ]\n",
      "  [ 2.08003763  0.43753562]]\n",
      "\n",
      " [[-0.89797877  0.25713174]\n",
      "  [-0.41720455  0.92783368]\n",
      "  [ 0.85234216 -1.04050262]]]\n",
      "(3, 3, 2)\n"
     ]
    }
   ],
   "source": [
    "# Criando um array com 3D\n",
    "ar_3d = np.random.randn(3,3,2)\n",
    "print(ar_3d)\n",
    "print(ar_3d.shape)"
   ]
  },
  {
   "attachments": {},
   "cell_type": "markdown",
   "metadata": {},
   "source": [
    "## Array 4D"
   ]
  },
  {
   "cell_type": "code",
   "execution_count": 5,
   "metadata": {},
   "outputs": [
    {
     "name": "stdout",
     "output_type": "stream",
     "text": [
      "[[[[-1.53333698  0.53553967]\n",
      "   [ 1.24188746 -1.50101192]]\n",
      "\n",
      "  [[ 0.81526099 -0.17365253]\n",
      "   [ 0.36806727 -0.77573435]]\n",
      "\n",
      "  [[ 0.70531284 -1.14907458]\n",
      "   [ 0.39227294 -0.3320145 ]]]\n",
      "\n",
      "\n",
      " [[[-0.68262017 -0.4710064 ]\n",
      "   [ 1.21883809 -0.74024536]]\n",
      "\n",
      "  [[-2.30875156  0.71418579]\n",
      "   [-0.16713489  1.77054902]]\n",
      "\n",
      "  [[-1.04581505  0.24638364]\n",
      "   [-0.54543486 -0.36056931]]]\n",
      "\n",
      "\n",
      " [[[-1.33709403 -0.59053207]\n",
      "   [ 0.56722     1.23563233]]\n",
      "\n",
      "  [[ 0.10210234 -0.09718359]\n",
      "   [-0.8508949  -1.33517233]]\n",
      "\n",
      "  [[ 0.89729182 -1.75664928]\n",
      "   [-2.08078373 -0.0800913 ]]]]\n",
      "(3, 3, 2, 2)\n"
     ]
    }
   ],
   "source": [
    "ar_4d = np.random.randn(3,3,2,2)\n",
    "print(ar_4d)\n",
    "print(ar_4d.shape)"
   ]
  },
  {
   "attachments": {},
   "cell_type": "markdown",
   "metadata": {},
   "source": [
    "## Array 1D - Lista de Valores"
   ]
  },
  {
   "cell_type": "code",
   "execution_count": 6,
   "metadata": {},
   "outputs": [
    {
     "name": "stdout",
     "output_type": "stream",
     "text": [
      "[1 2 3]\n",
      "<class 'numpy.ndarray'>\n"
     ]
    }
   ],
   "source": [
    "array_01 = [1,2,3]\n",
    "array_01 = np.array(array_01)\n",
    "print(array_01)\n",
    "print(type(array_01))"
   ]
  },
  {
   "attachments": {},
   "cell_type": "markdown",
   "metadata": {},
   "source": [
    "## Array 2D - Lista de Valores"
   ]
  },
  {
   "cell_type": "code",
   "execution_count": 7,
   "metadata": {},
   "outputs": [
    {
     "name": "stdout",
     "output_type": "stream",
     "text": [
      "[[1 2 3]\n",
      " [4 5 6]]\n",
      "<class 'numpy.ndarray'>\n"
     ]
    }
   ],
   "source": [
    "array_02 = [[1,2,3],[4,5,6]]\n",
    "array_02 = np.array(array_02)\n",
    "print(array_02)\n",
    "print(type(array_02))"
   ]
  },
  {
   "attachments": {},
   "cell_type": "markdown",
   "metadata": {},
   "source": [
    "## Array Com Valor Zero"
   ]
  },
  {
   "cell_type": "code",
   "execution_count": 8,
   "metadata": {},
   "outputs": [
    {
     "name": "stdout",
     "output_type": "stream",
     "text": [
      "[0. 0. 0. 0. 0. 0. 0. 0. 0. 0.]\n"
     ]
    }
   ],
   "source": [
    "print(np.zeros(10))"
   ]
  },
  {
   "cell_type": "code",
   "execution_count": 9,
   "metadata": {},
   "outputs": [
    {
     "name": "stdout",
     "output_type": "stream",
     "text": [
      "[[0. 0. 0.]\n",
      " [0. 0. 0.]]\n"
     ]
    }
   ],
   "source": [
    "print(np.zeros((2,3)))"
   ]
  },
  {
   "cell_type": "code",
   "execution_count": 10,
   "metadata": {},
   "outputs": [
    {
     "name": "stdout",
     "output_type": "stream",
     "text": [
      "[[[0. 0. 0.]\n",
      "  [0. 0. 0.]\n",
      "  [0. 0. 0.]]\n",
      "\n",
      " [[0. 0. 0.]\n",
      "  [0. 0. 0.]\n",
      "  [0. 0. 0.]]]\n"
     ]
    }
   ],
   "source": [
    "print(np.zeros((2,3,3)))"
   ]
  },
  {
   "attachments": {},
   "cell_type": "markdown",
   "metadata": {},
   "source": [
    "## Array Com Valor Um"
   ]
  },
  {
   "cell_type": "code",
   "execution_count": 11,
   "metadata": {},
   "outputs": [
    {
     "name": "stdout",
     "output_type": "stream",
     "text": [
      "[1. 1. 1. 1. 1. 1. 1. 1. 1. 1.]\n"
     ]
    }
   ],
   "source": [
    "print(np.ones(10))"
   ]
  },
  {
   "cell_type": "code",
   "execution_count": 12,
   "metadata": {},
   "outputs": [
    {
     "name": "stdout",
     "output_type": "stream",
     "text": [
      "[[1. 1. 1.]\n",
      " [1. 1. 1.]]\n"
     ]
    }
   ],
   "source": [
    "print(np.ones((2,3)))"
   ]
  },
  {
   "cell_type": "code",
   "execution_count": 13,
   "metadata": {},
   "outputs": [
    {
     "name": "stdout",
     "output_type": "stream",
     "text": [
      "[[[1. 1. 1.]\n",
      "  [1. 1. 1.]\n",
      "  [1. 1. 1.]]\n",
      "\n",
      " [[1. 1. 1.]\n",
      "  [1. 1. 1.]\n",
      "  [1. 1. 1.]]]\n"
     ]
    }
   ],
   "source": [
    "print(np.ones((2,3,3)))"
   ]
  },
  {
   "attachments": {},
   "cell_type": "markdown",
   "metadata": {},
   "source": [
    "## Tipo de Valores"
   ]
  },
  {
   "cell_type": "code",
   "execution_count": 14,
   "metadata": {},
   "outputs": [
    {
     "name": "stdout",
     "output_type": "stream",
     "text": [
      "[1. 2. 3.]\n",
      "float32\n"
     ]
    }
   ],
   "source": [
    "array_03 = np.array([1,2,3], dtype=np.float32)\n",
    "print(array_03)\n",
    "print(array_03.dtype)"
   ]
  },
  {
   "cell_type": "code",
   "execution_count": 15,
   "metadata": {},
   "outputs": [
    {
     "name": "stdout",
     "output_type": "stream",
     "text": [
      "[1 2 3]\n",
      "int32\n"
     ]
    }
   ],
   "source": [
    "array_04 = np.array([1,2,3], dtype=np.int32)\n",
    "print(array_04)\n",
    "print(array_04.dtype)"
   ]
  },
  {
   "cell_type": "code",
   "execution_count": 16,
   "metadata": {},
   "outputs": [
    {
     "name": "stdout",
     "output_type": "stream",
     "text": [
      "[1. 2. 3.]\n",
      "float64\n"
     ]
    }
   ],
   "source": [
    "array_05 = np.array([1,2,3], dtype=np.float64)\n",
    "print(array_05)\n",
    "print(array_05.dtype)"
   ]
  },
  {
   "attachments": {},
   "cell_type": "markdown",
   "metadata": {},
   "source": [
    "## Convertendo Valores"
   ]
  },
  {
   "cell_type": "code",
   "execution_count": 17,
   "metadata": {},
   "outputs": [
    {
     "name": "stdout",
     "output_type": "stream",
     "text": [
      "int32\n",
      "float64\n"
     ]
    }
   ],
   "source": [
    "array_07 = np.array([1,2,3], dtype=np.int32)\n",
    "print(array_07.dtype)\n",
    "\n",
    "# Convertendo \n",
    "array_07 = array_07.astype(float)\n",
    "print(array_07.dtype)"
   ]
  },
  {
   "attachments": {},
   "cell_type": "markdown",
   "metadata": {},
   "source": [
    "## Array de string"
   ]
  },
  {
   "cell_type": "code",
   "execution_count": 18,
   "metadata": {},
   "outputs": [
    {
     "name": "stdout",
     "output_type": "stream",
     "text": [
      "['um' 'dois' 'três']\n"
     ]
    }
   ],
   "source": [
    "array_05 = np.array(['um','dois','três'])\n",
    "print(array_05)"
   ]
  }
 ],
 "metadata": {
  "kernelspec": {
   "display_name": "base",
   "language": "python",
   "name": "python3"
  },
  "language_info": {
   "codemirror_mode": {
    "name": "ipython",
    "version": 3
   },
   "file_extension": ".py",
   "mimetype": "text/x-python",
   "name": "python",
   "nbconvert_exporter": "python",
   "pygments_lexer": "ipython3",
   "version": "3.10.9"
  },
  "orig_nbformat": 4
 },
 "nbformat": 4,
 "nbformat_minor": 2
}
