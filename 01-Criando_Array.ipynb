{
 "cells": [
  {
   "cell_type": "code",
   "execution_count": 3,
   "metadata": {},
   "outputs": [],
   "source": [
    "import numpy as np"
   ]
  },
  {
   "attachments": {},
   "cell_type": "markdown",
   "metadata": {},
   "source": [
    "![imagem](https://miro.medium.com/v2/resize:fit:1400/1*X0Dg7QfSYtWhSAu-afi8-g.png)"
   ]
  },
  {
   "attachments": {},
   "cell_type": "markdown",
   "metadata": {},
   "source": [
    "## Array 1D"
   ]
  },
  {
   "cell_type": "code",
   "execution_count": 7,
   "metadata": {},
   "outputs": [
    {
     "name": "stdout",
     "output_type": "stream",
     "text": [
      "[-0.51959147  0.52396497]\n",
      "(2,)\n"
     ]
    }
   ],
   "source": [
    "# Criando um array 1 dimensão\n",
    "ar_1d = np.random.randn(2)\n",
    "print(ar_1d)\n",
    "print(ar_1d.shape)"
   ]
  },
  {
   "attachments": {},
   "cell_type": "markdown",
   "metadata": {},
   "source": [
    "## Array 2D"
   ]
  },
  {
   "cell_type": "code",
   "execution_count": 6,
   "metadata": {},
   "outputs": [
    {
     "name": "stdout",
     "output_type": "stream",
     "text": [
      "[[-0.82487757 -0.16727285 -1.28670304]\n",
      " [ 1.08851055  0.11652764  1.18456957]]\n",
      "(2, 3)\n"
     ]
    }
   ],
   "source": [
    "# Criando um array com 2 linhas e 3 colunas\n",
    "ar_2d = np.random.randn(2,3)\n",
    "print(ar_2d)\n",
    "print(ar_2d.shape)"
   ]
  },
  {
   "attachments": {},
   "cell_type": "markdown",
   "metadata": {},
   "source": [
    "## Array 3D"
   ]
  },
  {
   "cell_type": "code",
   "execution_count": 23,
   "metadata": {},
   "outputs": [
    {
     "name": "stdout",
     "output_type": "stream",
     "text": [
      "[[[ 2.36783558  0.48191821]\n",
      "  [ 0.29005202 -0.74966035]\n",
      "  [ 1.00932267 -2.5213782 ]]\n",
      "\n",
      " [[ 1.20600515  2.89479781]\n",
      "  [-0.31152565  0.87465077]\n",
      "  [-0.4606654   0.50017355]]\n",
      "\n",
      " [[ 1.39228214 -0.70721926]\n",
      "  [-0.47706857  0.79994752]\n",
      "  [ 0.29889012 -0.07359996]]]\n",
      "(3, 3, 2)\n"
     ]
    }
   ],
   "source": [
    "# Criando um array com 3D\n",
    "ar_3d = np.random.randn(3,3,2)\n",
    "print(ar_3d)\n",
    "print(ar_3d.shape)"
   ]
  },
  {
   "attachments": {},
   "cell_type": "markdown",
   "metadata": {},
   "source": [
    "## Array 4D"
   ]
  },
  {
   "cell_type": "code",
   "execution_count": 24,
   "metadata": {},
   "outputs": [
    {
     "name": "stdout",
     "output_type": "stream",
     "text": [
      "[[[[-0.82258549 -1.18682166]\n",
      "   [-0.22053782  0.36167315]]\n",
      "\n",
      "  [[-1.04619365  1.02893583]\n",
      "   [-0.41665447 -0.46973288]]\n",
      "\n",
      "  [[-0.15224864 -1.27433824]\n",
      "   [ 1.36982707 -0.36384216]]]\n",
      "\n",
      "\n",
      " [[[-0.74660812 -0.5474117 ]\n",
      "   [ 1.35566913 -0.00737826]]\n",
      "\n",
      "  [[-0.32180118  1.15059834]\n",
      "   [-0.33672796 -2.55554089]]\n",
      "\n",
      "  [[ 0.3642831   1.33732477]\n",
      "   [ 0.00600991  0.09791354]]]\n",
      "\n",
      "\n",
      " [[[-2.12629606 -0.62002013]\n",
      "   [-0.87913774 -0.08589757]]\n",
      "\n",
      "  [[ 1.36225719  2.42891737]\n",
      "   [ 0.04332546 -0.0272779 ]]\n",
      "\n",
      "  [[-0.61450664  0.19206335]\n",
      "   [-0.8120834   0.90222688]]]]\n",
      "(3, 3, 2, 2)\n"
     ]
    }
   ],
   "source": [
    "ar_4d = np.random.randn(3,3,2,2)\n",
    "print(ar_4d)\n",
    "print(ar_4d.shape)"
   ]
  },
  {
   "attachments": {},
   "cell_type": "markdown",
   "metadata": {},
   "source": [
    "## Array 1D - Lista de Valores"
   ]
  },
  {
   "cell_type": "code",
   "execution_count": 26,
   "metadata": {},
   "outputs": [
    {
     "name": "stdout",
     "output_type": "stream",
     "text": [
      "[1 2 3]\n",
      "<class 'numpy.ndarray'>\n"
     ]
    }
   ],
   "source": [
    "array_01 = [1,2,3]\n",
    "array_01 = np.array(array_01)\n",
    "print(array_01)\n",
    "print(type(array_01))"
   ]
  },
  {
   "attachments": {},
   "cell_type": "markdown",
   "metadata": {},
   "source": [
    "## Array 2D - Lista de Valores"
   ]
  },
  {
   "cell_type": "code",
   "execution_count": 28,
   "metadata": {},
   "outputs": [
    {
     "name": "stdout",
     "output_type": "stream",
     "text": [
      "[[1 2 3]\n",
      " [4 5 6]]\n",
      "<class 'numpy.ndarray'>\n"
     ]
    }
   ],
   "source": [
    "array_02 = [[1,2,3],[4,5,6]]\n",
    "array_02 = np.array(array_02)\n",
    "print(array_02)\n",
    "print(type(array_02))"
   ]
  },
  {
   "attachments": {},
   "cell_type": "markdown",
   "metadata": {},
   "source": [
    "## Array Com Valor Zero"
   ]
  },
  {
   "cell_type": "code",
   "execution_count": 33,
   "metadata": {},
   "outputs": [
    {
     "name": "stdout",
     "output_type": "stream",
     "text": [
      "[0. 0. 0. 0. 0. 0. 0. 0. 0. 0.]\n"
     ]
    }
   ],
   "source": [
    "print(np.zeros(10))"
   ]
  },
  {
   "cell_type": "code",
   "execution_count": 35,
   "metadata": {},
   "outputs": [
    {
     "name": "stdout",
     "output_type": "stream",
     "text": [
      "[[0. 0. 0.]\n",
      " [0. 0. 0.]]\n"
     ]
    }
   ],
   "source": [
    "print(np.zeros((2,3)))"
   ]
  },
  {
   "cell_type": "code",
   "execution_count": 36,
   "metadata": {},
   "outputs": [
    {
     "name": "stdout",
     "output_type": "stream",
     "text": [
      "[[[0. 0. 0.]\n",
      "  [0. 0. 0.]\n",
      "  [0. 0. 0.]]\n",
      "\n",
      " [[0. 0. 0.]\n",
      "  [0. 0. 0.]\n",
      "  [0. 0. 0.]]]\n"
     ]
    }
   ],
   "source": [
    "print(np.zeros((2,3,3)))"
   ]
  },
  {
   "attachments": {},
   "cell_type": "markdown",
   "metadata": {},
   "source": [
    "## Array Com Valor Um"
   ]
  },
  {
   "cell_type": "code",
   "execution_count": 40,
   "metadata": {},
   "outputs": [
    {
     "name": "stdout",
     "output_type": "stream",
     "text": [
      "[1. 1. 1. 1. 1. 1. 1. 1. 1. 1.]\n"
     ]
    }
   ],
   "source": [
    "print(np.ones(10))"
   ]
  },
  {
   "cell_type": "code",
   "execution_count": 38,
   "metadata": {},
   "outputs": [
    {
     "name": "stdout",
     "output_type": "stream",
     "text": [
      "[[1. 1. 1.]\n",
      " [1. 1. 1.]]\n"
     ]
    }
   ],
   "source": [
    "print(np.ones((2,3)))"
   ]
  },
  {
   "cell_type": "code",
   "execution_count": 39,
   "metadata": {},
   "outputs": [
    {
     "name": "stdout",
     "output_type": "stream",
     "text": [
      "[[[1. 1. 1.]\n",
      "  [1. 1. 1.]\n",
      "  [1. 1. 1.]]\n",
      "\n",
      " [[1. 1. 1.]\n",
      "  [1. 1. 1.]\n",
      "  [1. 1. 1.]]]\n"
     ]
    }
   ],
   "source": [
    "print(np.ones((2,3,3)))"
   ]
  },
  {
   "attachments": {},
   "cell_type": "markdown",
   "metadata": {},
   "source": [
    "## Tipo de Valores"
   ]
  },
  {
   "cell_type": "code",
   "execution_count": 42,
   "metadata": {},
   "outputs": [
    {
     "name": "stdout",
     "output_type": "stream",
     "text": [
      "[1. 2. 3.]\n",
      "float32\n"
     ]
    }
   ],
   "source": [
    "array_03 = np.array([1,2,3], dtype=np.float32)\n",
    "print(array_03)\n",
    "print(array_03.dtype)"
   ]
  },
  {
   "cell_type": "code",
   "execution_count": 44,
   "metadata": {},
   "outputs": [
    {
     "name": "stdout",
     "output_type": "stream",
     "text": [
      "[1 2 3]\n",
      "int32\n"
     ]
    }
   ],
   "source": [
    "array_04 = np.array([1,2,3], dtype=np.int32)\n",
    "print(array_04)\n",
    "print(array_04.dtype)"
   ]
  },
  {
   "cell_type": "code",
   "execution_count": 46,
   "metadata": {},
   "outputs": [
    {
     "name": "stdout",
     "output_type": "stream",
     "text": [
      "[1. 2. 3.]\n",
      "float64\n"
     ]
    }
   ],
   "source": [
    "array_05 = np.array([1,2,3], dtype=np.float64)\n",
    "print(array_05)\n",
    "print(array_05.dtype)"
   ]
  },
  {
   "attachments": {},
   "cell_type": "markdown",
   "metadata": {},
   "source": [
    "## Convertendo Valores"
   ]
  },
  {
   "cell_type": "code",
   "execution_count": 48,
   "metadata": {},
   "outputs": [
    {
     "name": "stdout",
     "output_type": "stream",
     "text": [
      "int32\n",
      "float64\n"
     ]
    }
   ],
   "source": [
    "array_07 = np.array([1,2,3], dtype=np.int32)\n",
    "print(array_07.dtype)\n",
    "\n",
    "# Convertendo \n",
    "array_07 = array_07.astype(float)\n",
    "print(array_07.dtype)"
   ]
  },
  {
   "attachments": {},
   "cell_type": "markdown",
   "metadata": {},
   "source": [
    "## Array de string"
   ]
  },
  {
   "cell_type": "code",
   "execution_count": 9,
   "metadata": {},
   "outputs": [
    {
     "name": "stdout",
     "output_type": "stream",
     "text": [
      "['um' 'dois' 'três']\n"
     ]
    }
   ],
   "source": [
    "array_05 = np.array(['um','dois','três'])\n",
    "print(array_05)"
   ]
  }
 ],
 "metadata": {
  "kernelspec": {
   "display_name": "base",
   "language": "python",
   "name": "python3"
  },
  "language_info": {
   "codemirror_mode": {
    "name": "ipython",
    "version": 3
   },
   "file_extension": ".py",
   "mimetype": "text/x-python",
   "name": "python",
   "nbconvert_exporter": "python",
   "pygments_lexer": "ipython3",
   "version": "3.10.9"
  },
  "orig_nbformat": 4
 },
 "nbformat": 4,
 "nbformat_minor": 2
}
