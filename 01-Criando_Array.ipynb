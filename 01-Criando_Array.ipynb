{
 "cells": [
  {
   "cell_type": "code",
   "execution_count": 1,
   "metadata": {},
   "outputs": [],
   "source": [
    "import numpy as np"
   ]
  },
  {
   "attachments": {},
   "cell_type": "markdown",
   "metadata": {},
   "source": [
    "## Array 1D"
   ]
  },
  {
   "attachments": {},
   "cell_type": "markdown",
   "metadata": {},
   "source": [
    "![imagem](https://www.ankitweblogic.com/images/1d-array.png)"
   ]
  },
  {
   "cell_type": "code",
   "execution_count": 2,
   "metadata": {},
   "outputs": [
    {
     "name": "stdout",
     "output_type": "stream",
     "text": [
      "[1.9754064  1.25642085]\n",
      "(2,)\n"
     ]
    }
   ],
   "source": [
    "# Criando um array 1 dimensão\n",
    "ar_1d = np.random.randn(2)\n",
    "print(ar_1d)\n",
    "print(ar_1d.shape)"
   ]
  },
  {
   "attachments": {},
   "cell_type": "markdown",
   "metadata": {},
   "source": [
    "## Array 2D"
   ]
  },
  {
   "attachments": {},
   "cell_type": "markdown",
   "metadata": {},
   "source": [
    "![imagem](https://www.oreilly.com/api/v2/epubs/9781449323592/files/httpatomoreillycomsourceoreillyimages2172112.png)"
   ]
  },
  {
   "cell_type": "code",
   "execution_count": 3,
   "metadata": {},
   "outputs": [
    {
     "name": "stdout",
     "output_type": "stream",
     "text": [
      "[[-1.07020662 -1.79057743  0.70223   ]\n",
      " [-0.07344542  0.87144081  0.54928489]]\n",
      "(2, 3)\n"
     ]
    }
   ],
   "source": [
    "# Criando um array com 2 linhas e 3 colunas\n",
    "ar_2d = np.random.randn(2,3)\n",
    "print(ar_2d)\n",
    "print(ar_2d.shape)"
   ]
  },
  {
   "attachments": {},
   "cell_type": "markdown",
   "metadata": {},
   "source": [
    "## Array 3D"
   ]
  },
  {
   "attachments": {},
   "cell_type": "markdown",
   "metadata": {},
   "source": [
    "![imagem](https://ipython-books.github.io/pages/chapter01_basic/images/numpy.png)"
   ]
  },
  {
   "cell_type": "code",
   "execution_count": 4,
   "metadata": {},
   "outputs": [
    {
     "name": "stdout",
     "output_type": "stream",
     "text": [
      "[[[ 1.01009153 -0.41929063]\n",
      "  [ 1.1675175   0.19050641]\n",
      "  [-0.71294075 -0.05653883]]\n",
      "\n",
      " [[-0.91274503  0.96947414]\n",
      "  [-0.17136932 -0.28244546]\n",
      "  [ 0.6344776   0.83504427]]\n",
      "\n",
      " [[-0.27480976  2.03794431]\n",
      "  [-0.19274523  1.55173417]\n",
      "  [-0.41245401 -0.07969016]]]\n",
      "(3, 3, 2)\n"
     ]
    }
   ],
   "source": [
    "# Criando um array com 3D\n",
    "ar_3d = np.random.randn(3,3,2)\n",
    "print(ar_3d)\n",
    "print(ar_3d.shape)"
   ]
  },
  {
   "attachments": {},
   "cell_type": "markdown",
   "metadata": {},
   "source": [
    "## Array 4D"
   ]
  },
  {
   "cell_type": "code",
   "execution_count": 5,
   "metadata": {},
   "outputs": [
    {
     "name": "stdout",
     "output_type": "stream",
     "text": [
      "[[[[-1.08424555  0.86198644]\n",
      "   [-0.50715518  0.64583788]]\n",
      "\n",
      "  [[-1.0063966   1.5042224 ]\n",
      "   [-1.22506296 -0.11229628]]\n",
      "\n",
      "  [[ 0.97250256 -0.29085683]\n",
      "   [-0.14289813 -2.11789663]]]\n",
      "\n",
      "\n",
      " [[[-0.09110528  0.54135001]\n",
      "   [ 1.51755017  2.35898531]]\n",
      "\n",
      "  [[-1.61559448 -0.92744947]\n",
      "   [-0.94484484 -1.44453062]]\n",
      "\n",
      "  [[ 1.36726032  0.43076503]\n",
      "   [-0.44490671 -0.61603409]]]\n",
      "\n",
      "\n",
      " [[[ 0.42335118 -0.51065546]\n",
      "   [ 1.33581399 -0.95117763]]\n",
      "\n",
      "  [[ 0.545304    1.59820524]\n",
      "   [ 0.32482983 -2.92255047]]\n",
      "\n",
      "  [[ 0.45658032 -0.94458576]\n",
      "   [-0.26936105 -0.7562757 ]]]]\n",
      "(3, 3, 2, 2)\n"
     ]
    }
   ],
   "source": [
    "ar_4d = np.random.randn(3,3,2,2)\n",
    "print(ar_4d)\n",
    "print(ar_4d.shape)"
   ]
  },
  {
   "attachments": {},
   "cell_type": "markdown",
   "metadata": {},
   "source": [
    "## Array 1D - Lista de Valores"
   ]
  },
  {
   "cell_type": "code",
   "execution_count": 6,
   "metadata": {},
   "outputs": [
    {
     "name": "stdout",
     "output_type": "stream",
     "text": [
      "[1 2 3]\n",
      "<class 'numpy.ndarray'>\n"
     ]
    }
   ],
   "source": [
    "array_01 = [1,2,3]\n",
    "array_01 = np.array(array_01)\n",
    "print(array_01)\n",
    "print(type(array_01))"
   ]
  },
  {
   "attachments": {},
   "cell_type": "markdown",
   "metadata": {},
   "source": [
    "## Array 2D - Lista de Valores"
   ]
  },
  {
   "cell_type": "code",
   "execution_count": 7,
   "metadata": {},
   "outputs": [
    {
     "name": "stdout",
     "output_type": "stream",
     "text": [
      "[[1 2 3]\n",
      " [4 5 6]]\n",
      "<class 'numpy.ndarray'>\n"
     ]
    }
   ],
   "source": [
    "array_02 = [[1,2,3],[4,5,6]]\n",
    "array_02 = np.array(array_02)\n",
    "print(array_02)\n",
    "print(type(array_02))"
   ]
  },
  {
   "attachments": {},
   "cell_type": "markdown",
   "metadata": {},
   "source": [
    "## Array Com Valor Zero"
   ]
  },
  {
   "cell_type": "code",
   "execution_count": 8,
   "metadata": {},
   "outputs": [
    {
     "name": "stdout",
     "output_type": "stream",
     "text": [
      "[0. 0. 0. 0. 0. 0. 0. 0. 0. 0.]\n"
     ]
    }
   ],
   "source": [
    "print(np.zeros(10))"
   ]
  },
  {
   "cell_type": "code",
   "execution_count": 9,
   "metadata": {},
   "outputs": [
    {
     "name": "stdout",
     "output_type": "stream",
     "text": [
      "[[0. 0. 0.]\n",
      " [0. 0. 0.]]\n"
     ]
    }
   ],
   "source": [
    "print(np.zeros((2,3)))"
   ]
  },
  {
   "cell_type": "code",
   "execution_count": 10,
   "metadata": {},
   "outputs": [
    {
     "name": "stdout",
     "output_type": "stream",
     "text": [
      "[[[0. 0. 0.]\n",
      "  [0. 0. 0.]\n",
      "  [0. 0. 0.]]\n",
      "\n",
      " [[0. 0. 0.]\n",
      "  [0. 0. 0.]\n",
      "  [0. 0. 0.]]]\n"
     ]
    }
   ],
   "source": [
    "print(np.zeros((2,3,3)))"
   ]
  },
  {
   "attachments": {},
   "cell_type": "markdown",
   "metadata": {},
   "source": [
    "## Array Com Valor Um"
   ]
  },
  {
   "cell_type": "code",
   "execution_count": 11,
   "metadata": {},
   "outputs": [
    {
     "name": "stdout",
     "output_type": "stream",
     "text": [
      "[1. 1. 1. 1. 1. 1. 1. 1. 1. 1.]\n"
     ]
    }
   ],
   "source": [
    "print(np.ones(10))"
   ]
  },
  {
   "cell_type": "code",
   "execution_count": 12,
   "metadata": {},
   "outputs": [
    {
     "name": "stdout",
     "output_type": "stream",
     "text": [
      "[[1. 1. 1.]\n",
      " [1. 1. 1.]]\n"
     ]
    }
   ],
   "source": [
    "print(np.ones((2,3)))"
   ]
  },
  {
   "cell_type": "code",
   "execution_count": 13,
   "metadata": {},
   "outputs": [
    {
     "name": "stdout",
     "output_type": "stream",
     "text": [
      "[[[1. 1. 1.]\n",
      "  [1. 1. 1.]\n",
      "  [1. 1. 1.]]\n",
      "\n",
      " [[1. 1. 1.]\n",
      "  [1. 1. 1.]\n",
      "  [1. 1. 1.]]]\n"
     ]
    }
   ],
   "source": [
    "print(np.ones((2,3,3)))"
   ]
  },
  {
   "attachments": {},
   "cell_type": "markdown",
   "metadata": {},
   "source": [
    "## Tipo de Valores"
   ]
  },
  {
   "cell_type": "code",
   "execution_count": 14,
   "metadata": {},
   "outputs": [
    {
     "name": "stdout",
     "output_type": "stream",
     "text": [
      "[1. 2. 3.]\n",
      "float32\n"
     ]
    }
   ],
   "source": [
    "array_03 = np.array([1,2,3], dtype=np.float32)\n",
    "print(array_03)\n",
    "print(array_03.dtype)"
   ]
  },
  {
   "cell_type": "code",
   "execution_count": 15,
   "metadata": {},
   "outputs": [
    {
     "name": "stdout",
     "output_type": "stream",
     "text": [
      "[1 2 3]\n",
      "int32\n"
     ]
    }
   ],
   "source": [
    "array_04 = np.array([1,2,3], dtype=np.int32)\n",
    "print(array_04)\n",
    "print(array_04.dtype)"
   ]
  },
  {
   "cell_type": "code",
   "execution_count": 16,
   "metadata": {},
   "outputs": [
    {
     "name": "stdout",
     "output_type": "stream",
     "text": [
      "[1. 2. 3.]\n",
      "float64\n"
     ]
    }
   ],
   "source": [
    "array_05 = np.array([1,2,3], dtype=np.float64)\n",
    "print(array_05)\n",
    "print(array_05.dtype)"
   ]
  },
  {
   "attachments": {},
   "cell_type": "markdown",
   "metadata": {},
   "source": [
    "## Convertendo Valores"
   ]
  },
  {
   "cell_type": "code",
   "execution_count": 17,
   "metadata": {},
   "outputs": [
    {
     "name": "stdout",
     "output_type": "stream",
     "text": [
      "int32\n",
      "float64\n"
     ]
    }
   ],
   "source": [
    "array_07 = np.array([1,2,3], dtype=np.int32)\n",
    "print(array_07.dtype)\n",
    "\n",
    "# Convertendo \n",
    "array_07 = array_07.astype(float)\n",
    "print(array_07.dtype)"
   ]
  },
  {
   "attachments": {},
   "cell_type": "markdown",
   "metadata": {},
   "source": [
    "## Array de string"
   ]
  },
  {
   "cell_type": "code",
   "execution_count": 18,
   "metadata": {},
   "outputs": [
    {
     "name": "stdout",
     "output_type": "stream",
     "text": [
      "['um' 'dois' 'três']\n"
     ]
    }
   ],
   "source": [
    "array_05 = np.array(['um','dois','três'])\n",
    "print(array_05)"
   ]
  }
 ],
 "metadata": {
  "kernelspec": {
   "display_name": "base",
   "language": "python",
   "name": "python3"
  },
  "language_info": {
   "codemirror_mode": {
    "name": "ipython",
    "version": 3
   },
   "file_extension": ".py",
   "mimetype": "text/x-python",
   "name": "python",
   "nbconvert_exporter": "python",
   "pygments_lexer": "ipython3",
   "version": "3.10.9"
  },
  "orig_nbformat": 4
 },
 "nbformat": 4,
 "nbformat_minor": 2
}
