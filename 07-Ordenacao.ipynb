{
 "cells": [
  {
   "cell_type": "code",
   "execution_count": 20,
   "metadata": {},
   "outputs": [],
   "source": [
    "import numpy as np"
   ]
  },
  {
   "attachments": {},
   "cell_type": "markdown",
   "metadata": {},
   "source": [
    "## Ordenando"
   ]
  },
  {
   "cell_type": "code",
   "execution_count": 21,
   "metadata": {},
   "outputs": [
    {
     "name": "stdout",
     "output_type": "stream",
     "text": [
      "[0.62122797 0.23284861 0.16279825 0.34744673 0.74870923]\n"
     ]
    }
   ],
   "source": [
    "arr_01 = np.random.rand(5)\n",
    "print(arr_01)"
   ]
  },
  {
   "cell_type": "code",
   "execution_count": 22,
   "metadata": {},
   "outputs": [
    {
     "data": {
      "text/plain": [
       "array([0.16279825, 0.23284861, 0.34744673, 0.62122797, 0.74870923])"
      ]
     },
     "execution_count": 22,
     "metadata": {},
     "output_type": "execute_result"
    }
   ],
   "source": [
    "np.sort(arr_01)"
   ]
  },
  {
   "cell_type": "code",
   "execution_count": 23,
   "metadata": {},
   "outputs": [
    {
     "name": "stdout",
     "output_type": "stream",
     "text": [
      "[[0.8730654  0.47885146 0.98033076 0.43886953 0.53061035]\n",
      " [0.96116489 0.85145212 0.6174809  0.60305891 0.03344561]\n",
      " [0.38954185 0.42899515 0.74822087 0.03359456 0.12822369]\n",
      " [0.83355226 0.23372655 0.06290057 0.97140126 0.38684019]\n",
      " [0.43984727 0.97286066 0.16172447 0.16044603 0.30476116]]\n"
     ]
    }
   ],
   "source": [
    "arr_02 = np.random.rand(5,5)\n",
    "print(arr_02)"
   ]
  },
  {
   "cell_type": "code",
   "execution_count": 24,
   "metadata": {},
   "outputs": [
    {
     "data": {
      "text/plain": [
       "array([[0.43886953, 0.47885146, 0.53061035, 0.8730654 , 0.98033076],\n",
       "       [0.03344561, 0.60305891, 0.6174809 , 0.85145212, 0.96116489],\n",
       "       [0.03359456, 0.12822369, 0.38954185, 0.42899515, 0.74822087],\n",
       "       [0.06290057, 0.23372655, 0.38684019, 0.83355226, 0.97140126],\n",
       "       [0.16044603, 0.16172447, 0.30476116, 0.43984727, 0.97286066]])"
      ]
     },
     "execution_count": 24,
     "metadata": {},
     "output_type": "execute_result"
    }
   ],
   "source": [
    "# Ordenação por linha\n",
    "np.sort(arr_02)"
   ]
  },
  {
   "cell_type": "code",
   "execution_count": 31,
   "metadata": {},
   "outputs": [
    {
     "data": {
      "text/plain": [
       "array([[3, 1, 4, 0, 2],\n",
       "       [4, 3, 2, 1, 0],\n",
       "       [3, 4, 0, 1, 2],\n",
       "       [2, 1, 4, 0, 3],\n",
       "       [3, 2, 4, 0, 1]], dtype=int64)"
      ]
     },
     "execution_count": 31,
     "metadata": {},
     "output_type": "execute_result"
    }
   ],
   "source": [
    "# Mostra o índice de cada valor \n",
    "arr_02.argsort()"
   ]
  },
  {
   "cell_type": "code",
   "execution_count": 30,
   "metadata": {},
   "outputs": [
    {
     "name": "stdout",
     "output_type": "stream",
     "text": [
      "[[0.38954185 0.42899515 0.74822087 0.03359456 0.12822369]\n",
      " [0.43984727 0.97286066 0.16172447 0.16044603 0.30476116]\n",
      " [0.83355226 0.23372655 0.06290057 0.97140126 0.38684019]\n",
      " [0.8730654  0.47885146 0.98033076 0.43886953 0.53061035]\n",
      " [0.96116489 0.85145212 0.6174809  0.60305891 0.03344561]]\n"
     ]
    }
   ],
   "source": [
    "# Ordenando por coluna\n",
    "print(arr_02[arr_02[:, 0].argsort()])"
   ]
  },
  {
   "attachments": {},
   "cell_type": "markdown",
   "metadata": {},
   "source": [
    "## Ordenando Strings"
   ]
  },
  {
   "cell_type": "code",
   "execution_count": 26,
   "metadata": {},
   "outputs": [],
   "source": [
    "nome = np.array(['Ana','João','Maria','Sebastiana'])"
   ]
  },
  {
   "cell_type": "code",
   "execution_count": 27,
   "metadata": {},
   "outputs": [
    {
     "data": {
      "text/plain": [
       "array(['Ana', 'João', 'Maria', 'Sebastiana'], dtype='<U10')"
      ]
     },
     "execution_count": 27,
     "metadata": {},
     "output_type": "execute_result"
    }
   ],
   "source": [
    "# Ordenando pelo sobrenome e nome\n",
    "ordem = np.sort(nome)\n",
    "ordem"
   ]
  }
 ],
 "metadata": {
  "kernelspec": {
   "display_name": "base",
   "language": "python",
   "name": "python3"
  },
  "language_info": {
   "codemirror_mode": {
    "name": "ipython",
    "version": 3
   },
   "file_extension": ".py",
   "mimetype": "text/x-python",
   "name": "python",
   "nbconvert_exporter": "python",
   "pygments_lexer": "ipython3",
   "version": "3.10.9"
  },
  "orig_nbformat": 4
 },
 "nbformat": 4,
 "nbformat_minor": 2
}
