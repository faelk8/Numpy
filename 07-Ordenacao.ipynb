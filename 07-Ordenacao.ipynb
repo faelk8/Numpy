{
 "cells": [
  {
   "cell_type": "code",
   "execution_count": 1,
   "metadata": {},
   "outputs": [],
   "source": [
    "import numpy as np"
   ]
  },
  {
   "attachments": {},
   "cell_type": "markdown",
   "metadata": {},
   "source": [
    "## Ordenando por números"
   ]
  },
  {
   "cell_type": "code",
   "execution_count": 2,
   "metadata": {},
   "outputs": [
    {
     "name": "stdout",
     "output_type": "stream",
     "text": [
      "[0.29230364 0.90413898 0.87825103 0.09732731 0.0483455 ]\n"
     ]
    }
   ],
   "source": [
    "arr_01 = np.random.rand(5)\n",
    "print(arr_01)"
   ]
  },
  {
   "cell_type": "code",
   "execution_count": 3,
   "metadata": {},
   "outputs": [
    {
     "data": {
      "text/plain": [
       "array([0.0483455 , 0.09732731, 0.29230364, 0.87825103, 0.90413898])"
      ]
     },
     "execution_count": 3,
     "metadata": {},
     "output_type": "execute_result"
    }
   ],
   "source": [
    "np.sort(arr_01)"
   ]
  },
  {
   "cell_type": "code",
   "execution_count": 4,
   "metadata": {},
   "outputs": [
    {
     "name": "stdout",
     "output_type": "stream",
     "text": [
      "[[0.75861716 0.66238915 0.66018288 0.71596214 0.35403563]\n",
      " [0.47367151 0.65260132 0.2216609  0.69945258 0.92556807]\n",
      " [0.06265551 0.73682477 0.88954826 0.55910383 0.03118698]\n",
      " [0.70102033 0.20298702 0.60368392 0.80160723 0.3227377 ]\n",
      " [0.80117431 0.16523139 0.58251065 0.22348708 0.05166417]]\n"
     ]
    }
   ],
   "source": [
    "arr_02 = np.random.rand(5,5)\n",
    "print(arr_02)"
   ]
  },
  {
   "cell_type": "code",
   "execution_count": 5,
   "metadata": {},
   "outputs": [
    {
     "data": {
      "text/plain": [
       "array([[0.35403563, 0.66018288, 0.66238915, 0.71596214, 0.75861716],\n",
       "       [0.2216609 , 0.47367151, 0.65260132, 0.69945258, 0.92556807],\n",
       "       [0.03118698, 0.06265551, 0.55910383, 0.73682477, 0.88954826],\n",
       "       [0.20298702, 0.3227377 , 0.60368392, 0.70102033, 0.80160723],\n",
       "       [0.05166417, 0.16523139, 0.22348708, 0.58251065, 0.80117431]])"
      ]
     },
     "execution_count": 5,
     "metadata": {},
     "output_type": "execute_result"
    }
   ],
   "source": [
    "# Ordenação por linha\n",
    "np.sort(arr_02)"
   ]
  },
  {
   "cell_type": "code",
   "execution_count": 6,
   "metadata": {},
   "outputs": [
    {
     "data": {
      "text/plain": [
       "array([[4, 2, 1, 3, 0],\n",
       "       [2, 0, 1, 3, 4],\n",
       "       [4, 0, 3, 1, 2],\n",
       "       [1, 4, 2, 0, 3],\n",
       "       [4, 1, 3, 2, 0]], dtype=int64)"
      ]
     },
     "execution_count": 6,
     "metadata": {},
     "output_type": "execute_result"
    }
   ],
   "source": [
    "# Mostra o índice de cada valor \n",
    "arr_02.argsort()"
   ]
  },
  {
   "attachments": {},
   "cell_type": "markdown",
   "metadata": {},
   "source": [
    "## Ordenando Strings"
   ]
  },
  {
   "cell_type": "code",
   "execution_count": 7,
   "metadata": {},
   "outputs": [],
   "source": [
    "nome = np.array(['Ana','João','Maria','Sebastiana'])\n",
    "sobre_nome = np.array(['Silva','Batista','Santos','Gomes'])"
   ]
  },
  {
   "cell_type": "code",
   "execution_count": 10,
   "metadata": {},
   "outputs": [
    {
     "data": {
      "text/plain": [
       "array(['Ana', 'João', 'Maria', 'Sebastiana'], dtype='<U10')"
      ]
     },
     "execution_count": 10,
     "metadata": {},
     "output_type": "execute_result"
    }
   ],
   "source": [
    "# Ordenando pelo sobrenome e nome\n",
    "ordem = np.sort(nome)\n",
    "ordem"
   ]
  },
  {
   "cell_type": "code",
   "execution_count": 12,
   "metadata": {},
   "outputs": [
    {
     "data": {
      "text/plain": [
       "array(['Batista', 'Gomes', 'Santos', 'Silva'], dtype='<U7')"
      ]
     },
     "execution_count": 12,
     "metadata": {},
     "output_type": "execute_result"
    }
   ],
   "source": [
    "ordem = np.sort(sobre_nome)\n",
    "ordem"
   ]
  }
 ],
 "metadata": {
  "kernelspec": {
   "display_name": "base",
   "language": "python",
   "name": "python3"
  },
  "language_info": {
   "codemirror_mode": {
    "name": "ipython",
    "version": 3
   },
   "file_extension": ".py",
   "mimetype": "text/x-python",
   "name": "python",
   "nbconvert_exporter": "python",
   "pygments_lexer": "ipython3",
   "version": "3.10.9"
  },
  "orig_nbformat": 4
 },
 "nbformat": 4,
 "nbformat_minor": 2
}
