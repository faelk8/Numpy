{
 "cells": [
  {
   "attachments": {},
   "cell_type": "markdown",
   "metadata": {},
   "source": [
    "# Reshape"
   ]
  },
  {
   "cell_type": "code",
   "execution_count": 1,
   "metadata": {},
   "outputs": [],
   "source": [
    "import numpy as np"
   ]
  },
  {
   "attachments": {},
   "cell_type": "markdown",
   "metadata": {},
   "source": [
    "## 1D para 2D"
   ]
  },
  {
   "cell_type": "code",
   "execution_count": 2,
   "metadata": {},
   "outputs": [
    {
     "name": "stdout",
     "output_type": "stream",
     "text": [
      "[0 1 2 3 4 5 6 7]\n"
     ]
    }
   ],
   "source": [
    "ar_01 = np.arange(8)\n",
    "print(ar_01)"
   ]
  },
  {
   "cell_type": "code",
   "execution_count": 3,
   "metadata": {},
   "outputs": [
    {
     "name": "stdout",
     "output_type": "stream",
     "text": [
      "[[0 1 2 3 4 5 6 7]]\n"
     ]
    }
   ],
   "source": [
    "# 4 linhas e 2 colunas\n",
    "print(ar_01.reshape(1,-1))"
   ]
  },
  {
   "attachments": {},
   "cell_type": "markdown",
   "metadata": {},
   "source": [
    "## 1D para 3D"
   ]
  },
  {
   "cell_type": "code",
   "execution_count": 4,
   "metadata": {},
   "outputs": [
    {
     "name": "stdout",
     "output_type": "stream",
     "text": [
      "[[[0]\n",
      "  [1]\n",
      "  [2]\n",
      "  [3]\n",
      "  [4]\n",
      "  [5]\n",
      "  [6]\n",
      "  [7]]]\n"
     ]
    }
   ],
   "source": [
    "# 4 linhas e 2 colunas\n",
    "print(ar_01.reshape(1,-1,1))"
   ]
  },
  {
   "attachments": {},
   "cell_type": "markdown",
   "metadata": {},
   "source": [
    "## 2D para 3D"
   ]
  },
  {
   "cell_type": "code",
   "execution_count": 5,
   "metadata": {},
   "outputs": [
    {
     "name": "stdout",
     "output_type": "stream",
     "text": [
      "[[ 1  2  3  4  5  6]\n",
      " [ 7  8  9 10 11 12]]\n"
     ]
    }
   ],
   "source": [
    "# 4 linhas e 2 colunas\n",
    "ar_02 = np.array([[1, 2, 3,4, 5, 6], [7,8,9,10,11,12]])\n",
    "print(ar_02)"
   ]
  },
  {
   "cell_type": "code",
   "execution_count": 6,
   "metadata": {},
   "outputs": [
    {
     "name": "stdout",
     "output_type": "stream",
     "text": [
      "[[[ 1]]\n",
      "\n",
      " [[ 2]]\n",
      "\n",
      " [[ 3]]\n",
      "\n",
      " [[ 4]]\n",
      "\n",
      " [[ 5]]\n",
      "\n",
      " [[ 6]]\n",
      "\n",
      " [[ 7]]\n",
      "\n",
      " [[ 8]]\n",
      "\n",
      " [[ 9]]\n",
      "\n",
      " [[10]]\n",
      "\n",
      " [[11]]\n",
      "\n",
      " [[12]]]\n"
     ]
    }
   ],
   "source": [
    "print(ar_02.reshape(-1,1,1))"
   ]
  },
  {
   "attachments": {},
   "cell_type": "markdown",
   "metadata": {},
   "source": [
    "## 3D para 2D"
   ]
  },
  {
   "cell_type": "code",
   "execution_count": 18,
   "metadata": {},
   "outputs": [
    {
     "name": "stdout",
     "output_type": "stream",
     "text": [
      "[[[ 1]]\n",
      "\n",
      " [[ 2]]\n",
      "\n",
      " [[ 3]]\n",
      "\n",
      " [[ 4]]\n",
      "\n",
      " [[ 5]]\n",
      "\n",
      " [[ 6]]\n",
      "\n",
      " [[ 7]]\n",
      "\n",
      " [[ 8]]\n",
      "\n",
      " [[ 9]]\n",
      "\n",
      " [[10]]\n",
      "\n",
      " [[11]]\n",
      "\n",
      " [[12]]]\n"
     ]
    }
   ],
   "source": [
    "ar_03 = ar_02.reshape(-1,1,1)\n",
    "print(ar_03)"
   ]
  },
  {
   "cell_type": "code",
   "execution_count": 19,
   "metadata": {},
   "outputs": [
    {
     "name": "stdout",
     "output_type": "stream",
     "text": [
      "[[ 1]\n",
      " [ 2]\n",
      " [ 3]\n",
      " [ 4]\n",
      " [ 5]\n",
      " [ 6]\n",
      " [ 7]\n",
      " [ 8]\n",
      " [ 9]\n",
      " [10]\n",
      " [11]\n",
      " [12]]\n"
     ]
    }
   ],
   "source": [
    "print(ar_03.reshape(-1,1))"
   ]
  },
  {
   "cell_type": "code",
   "execution_count": 20,
   "metadata": {},
   "outputs": [
    {
     "name": "stdout",
     "output_type": "stream",
     "text": [
      "[ 1  2  3  4  5  6  7  8  9 10 11 12]\n"
     ]
    }
   ],
   "source": [
    "print(ar_03.reshape(-1))"
   ]
  }
 ],
 "metadata": {
  "kernelspec": {
   "display_name": "base",
   "language": "python",
   "name": "python3"
  },
  "language_info": {
   "codemirror_mode": {
    "name": "ipython",
    "version": 3
   },
   "file_extension": ".py",
   "mimetype": "text/x-python",
   "name": "python",
   "nbconvert_exporter": "python",
   "pygments_lexer": "ipython3",
   "version": "3.10.9"
  },
  "orig_nbformat": 4
 },
 "nbformat": 4,
 "nbformat_minor": 2
}
